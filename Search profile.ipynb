{
 "cells": [
  {
   "cell_type": "code",
   "execution_count": 0,
   "metadata": {
    "application/vnd.databricks.v1+cell": {
     "cellMetadata": {
      "byteLimit": 2048000,
      "rowLimit": 10000
     },
     "inputWidgets": {},
     "nuid": "8c42a90c-0f03-4b32-a511-55cfc599b06c",
     "showTitle": false,
     "title": ""
    }
   },
   "outputs": [],
   "source": [
    "from graphdatascience import GraphDataScience\n",
    "from getpass import getpass"
   ]
  },
  {
   "cell_type": "code",
   "execution_count": 0,
   "metadata": {
    "application/vnd.databricks.v1+cell": {
     "cellMetadata": {
      "byteLimit": 2048000,
      "rowLimit": 10000
     },
     "inputWidgets": {},
     "nuid": "429e34b8-1593-4282-aa52-392c0f2f045b",
     "showTitle": false,
     "title": ""
    }
   },
   "outputs": [
    {
     "output_type": "display_data",
     "data": {
      "text/plain": [
       "Neo4j password [REDACTED]"
      ]
     },
     "metadata": {},
     "output_type": "display_data"
    }
   ],
   "source": [
    "neo4j_password = getpass(\"Neo4j password\")"
   ]
  },
  {
   "cell_type": "code",
   "execution_count": 0,
   "metadata": {
    "application/vnd.databricks.v1+cell": {
     "cellMetadata": {
      "byteLimit": 2048000,
      "rowLimit": 10000
     },
     "inputWidgets": {},
     "nuid": "243cd6be-491d-49db-aa14-086753171bbd",
     "showTitle": false,
     "title": ""
    }
   },
   "outputs": [],
   "source": [
    "url = \"neo4j+s://5f8297f1.databases.neo4j.io\"\n",
    "username = \"neo4j\"\n",
    "gds = GraphDataScience(url, auth=(username, neo4j_password))"
   ]
  },
  {
   "cell_type": "code",
   "execution_count": 0,
   "metadata": {
    "application/vnd.databricks.v1+cell": {
     "cellMetadata": {
      "byteLimit": 2048000,
      "rowLimit": 10000
     },
     "inputWidgets": {},
     "nuid": "1ad017d9-1ec8-480b-a6f5-84cc00ce7fcc",
     "showTitle": false,
     "title": ""
    }
   },
   "outputs": [
    {
     "output_type": "stream",
     "name": "stderr",
     "output_type": "stream",
     "text": [
      "Failed to write data to connection ResolvedIPv4Address(('34.28.32.244', 7687)) (ResolvedIPv4Address(('34.28.32.244', 7687)))\nFailed to write data to connection IPv4Address(('5f8297f1.databases.neo4j.io', 7687)) (ResolvedIPv4Address(('34.28.32.244', 7687)))\n"
     ]
    },
    {
     "output_type": "execute_result",
     "data": {
      "text/html": [
       "<div>\n",
       "<style scoped>\n",
       "    .dataframe tbody tr th:only-of-type {\n",
       "        vertical-align: middle;\n",
       "    }\n",
       "\n",
       "    .dataframe tbody tr th {\n",
       "        vertical-align: top;\n",
       "    }\n",
       "\n",
       "    .dataframe thead th {\n",
       "        text-align: right;\n",
       "    }\n",
       "</style>\n",
       "<table border=\"1\" class=\"dataframe\">\n",
       "  <thead>\n",
       "    <tr style=\"text-align: right;\">\n",
       "      <th></th>\n",
       "      <th>id</th>\n",
       "      <th>name</th>\n",
       "      <th>state</th>\n",
       "      <th>populationPercent</th>\n",
       "      <th>type</th>\n",
       "      <th>entityType</th>\n",
       "      <th>labelsOrTypes</th>\n",
       "      <th>properties</th>\n",
       "      <th>indexProvider</th>\n",
       "      <th>owningConstraint</th>\n",
       "      <th>lastRead</th>\n",
       "      <th>readCount</th>\n",
       "    </tr>\n",
       "  </thead>\n",
       "  <tbody>\n",
       "    <tr>\n",
       "      <th>0</th>\n",
       "      <td>18</td>\n",
       "      <td>dob_string_full_text</td>\n",
       "      <td>ONLINE</td>\n",
       "      <td>100.0</td>\n",
       "      <td>FULLTEXT</td>\n",
       "      <td>NODE</td>\n",
       "      <td>[DOB]</td>\n",
       "      <td>[birthdateString]</td>\n",
       "      <td>fulltext-1.0</td>\n",
       "      <td>None</td>\n",
       "      <td>None</td>\n",
       "      <td>NaN</td>\n",
       "    </tr>\n",
       "    <tr>\n",
       "      <th>1</th>\n",
       "      <td>17</td>\n",
       "      <td>email_full_text</td>\n",
       "      <td>ONLINE</td>\n",
       "      <td>100.0</td>\n",
       "      <td>FULLTEXT</td>\n",
       "      <td>NODE</td>\n",
       "      <td>[Email]</td>\n",
       "      <td>[email]</td>\n",
       "      <td>fulltext-1.0</td>\n",
       "      <td>None</td>\n",
       "      <td>None</td>\n",
       "      <td>0.0</td>\n",
       "    </tr>\n",
       "    <tr>\n",
       "      <th>2</th>\n",
       "      <td>14</td>\n",
       "      <td>full_name_full_text</td>\n",
       "      <td>ONLINE</td>\n",
       "      <td>100.0</td>\n",
       "      <td>FULLTEXT</td>\n",
       "      <td>NODE</td>\n",
       "      <td>[PersonName]</td>\n",
       "      <td>[fullName]</td>\n",
       "      <td>fulltext-1.0</td>\n",
       "      <td>None</td>\n",
       "      <td>2024-06-08T20:14:55.050000000+00:00</td>\n",
       "      <td>30.0</td>\n",
       "    </tr>\n",
       "    <tr>\n",
       "      <th>3</th>\n",
       "      <td>15</td>\n",
       "      <td>phone_number_full_text</td>\n",
       "      <td>ONLINE</td>\n",
       "      <td>100.0</td>\n",
       "      <td>FULLTEXT</td>\n",
       "      <td>NODE</td>\n",
       "      <td>[PhoneNumber]</td>\n",
       "      <td>[phoneNumber]</td>\n",
       "      <td>fulltext-1.0</td>\n",
       "      <td>None</td>\n",
       "      <td>None</td>\n",
       "      <td>0.0</td>\n",
       "    </tr>\n",
       "    <tr>\n",
       "      <th>4</th>\n",
       "      <td>16</td>\n",
       "      <td>ssn_full_text</td>\n",
       "      <td>ONLINE</td>\n",
       "      <td>100.0</td>\n",
       "      <td>FULLTEXT</td>\n",
       "      <td>NODE</td>\n",
       "      <td>[SocialSecurityNumber]</td>\n",
       "      <td>[socialSecurityNumber]</td>\n",
       "      <td>fulltext-1.0</td>\n",
       "      <td>None</td>\n",
       "      <td>None</td>\n",
       "      <td>0.0</td>\n",
       "    </tr>\n",
       "  </tbody>\n",
       "</table>\n",
       "</div>"
      ],
      "text/plain": [
       "   id                    name  ...                             lastRead  readCount\n",
       "0  18    dob_string_full_text  ...                                 None        NaN\n",
       "1  17         email_full_text  ...                                 None        0.0\n",
       "2  14     full_name_full_text  ...  2024-06-08T20:14:55.050000000+00:00       30.0\n",
       "3  15  phone_number_full_text  ...                                 None        0.0\n",
       "4  16           ssn_full_text  ...                                 None        0.0\n",
       "\n",
       "[5 rows x 12 columns]"
      ]
     },
     "execution_count": 11,
     "metadata": {},
     "output_type": "execute_result"
    }
   ],
   "source": [
    "def create_fulltext_index(index_name, label, property, analyzer):\n",
    "    query = f\"\"\"\n",
    "        CREATE FULLTEXT INDEX $indexName IF NOT EXISTS FOR (n:{label}) ON EACH [n.{property}]\n",
    "        OPTIONS {{\n",
    "            indexConfig: {{\n",
    "                `fulltext.analyzer`: $analyzer,\n",
    "                `fulltext.eventually_consistent`: true\n",
    "            }}\n",
    "        }}\"\"\"\n",
    "    gds.run_cypher(query, {\"indexName\":index_name, \"analyzer\":analyzer})\n",
    "\n",
    "create_fulltext_index(\"full_name_full_text\", \"PersonName\", \"fullName\", \"keyword\")\n",
    "create_fulltext_index(\"phone_number_full_text\", \"PhoneNumber\", \"phoneNumber\", \"keyword\")\n",
    "create_fulltext_index(\"ssn_full_text\", \"SocialSecurityNumber\", \"socialSecurityNumber\", \"keyword\")\n",
    "create_fulltext_index(\"email_full_text\", \"Email\", \"email\", \"email\")\n",
    "create_fulltext_index(\"dob_string_full_text\", \"DOB\", \"birthdateString\", \"keyword\")\n",
    "\n",
    "gds.run_cypher(\"show fulltext indexes\")"
   ]
  },
  {
   "cell_type": "code",
   "execution_count": 0,
   "metadata": {
    "application/vnd.databricks.v1+cell": {
     "cellMetadata": {
      "byteLimit": 2048000,
      "rowLimit": 10000
     },
     "inputWidgets": {},
     "nuid": "27c309a5-b816-4a1b-9102-a4d5fb66db4d",
     "showTitle": false,
     "title": ""
    }
   },
   "outputs": [],
   "source": [
    "def search_profile(dob, email, full_name, phone, ssn):\n",
    "    result_df = gds.run_cypher(\"\"\"\n",
    "        CALL {\n",
    "            CALL db.index.fulltext.queryNodes(\"dob_string_full_text\", $dob + \"~\", {limit:5}) YIELD node, score\n",
    "            MATCH (u:UserDescription)-[:HAS_DOB]->(node)\n",
    "            RETURN u, score, \n",
    "            {property: \"dob\", matchType: CASE WHEN node.birthdateString = $dob THEN \"Exact\" ELSE \"Fuzzy\" END} AS matched\n",
    "\n",
    "            UNION ALL\n",
    "\n",
    "            CALL db.index.fulltext.queryNodes(\"email_full_text\", $email + \"~\", {limit:5}) YIELD node, score\n",
    "            MATCH (u:UserDescription)-[:HAS_EMAIL]->(node)\n",
    "            RETURN u, score, \n",
    "            {property: \"email\", matchType: CASE WHEN node.email = $email THEN \"Exact\" ELSE \"Fuzzy\" END} AS matched\n",
    "\n",
    "            UNION ALL\n",
    "\n",
    "            CALL db.index.fulltext.queryNodes(\"full_name_full_text\", $fullName + \"~\", {limit:5}) YIELD node, score\n",
    "            MATCH (u:UserDescription)-[:HAS_NAME]->(node)\n",
    "            RETURN u, score, \n",
    "            {property: \"name\", matchType: CASE WHEN node.fullName = $fullName THEN \"Exact\" ELSE \"Fuzzy\" END} AS matched\n",
    "\n",
    "                    \n",
    "            UNION ALL\n",
    "\n",
    "            CALL db.index.fulltext.queryNodes(\"phone_number_full_text\", $phone + \"~\", {limit:5}) YIELD node, score\n",
    "            MATCH (u:UserDescription)-[:HAS_PHONE]->(node)\n",
    "            RETURN u, score, \n",
    "            {property: \"phone\", matchType: CASE WHEN node.phoneNumber = $phone THEN \"Exact\" ELSE \"Fuzzy\" END} AS matched\n",
    "\n",
    "            UNION ALL\n",
    "\n",
    "            CALL db.index.fulltext.queryNodes(\"ssn_full_text\", $ssn + \"~\", {limit:5}) YIELD node, score\n",
    "            MATCH (u:UserDescription)-[:HAS_SOCIAL_SECURITY_NUMBER]->(node)\n",
    "            RETURN u, score, \n",
    "            {property: \"ssn\", matchType: CASE WHEN node.socialSecurityNumber = $ssn THEN \"Exact\" ELSE \"Fuzzy\" END} AS matched\n",
    "        }\n",
    "\n",
    "        WITH u, avg(score) AS avgScore, collect(matched) AS cluesMatched\n",
    "        WHERE size(cluesMatched) > 1\n",
    "\n",
    "        RETURN u.userId AS userId, \n",
    "        [clue IN cluesMatched WHERE clue['matchType'] = 'Exact' | clue['property']] AS exactMatchedProperties,\n",
    "        [clue IN cluesMatched WHERE clue['matchType'] = 'Fuzzy' | clue['property']] AS fuzzyMatchedProperties,\n",
    "        avgScore,\n",
    "        COLLECT{ MATCH (u)-[:HAS_DOB]->(n) RETURN n.birthdateString } AS birthdates,\n",
    "        COLLECT{ MATCH (u)-[:HAS_EMAIL]->(n) RETURN n.email } AS emails,\n",
    "        COLLECT{ MATCH (u)-[:HAS_NAME]->(n) RETURN n.fullName } AS fullNames,\n",
    "        COLLECT{ MATCH (u)-[:HAS_PHONE]->(n) RETURN n.phoneNumber } AS phoneNumbers,\n",
    "        COLLECT{ MATCH (u)-[:HAS_SOCIAL_SECURITY_NUMBER]->(n) RETURN n.socialSecurityNumber } AS socialSecurityNumbers\n",
    "            \n",
    "        ORDER BY size(cluesMatched) DESC, avgScore DESC\n",
    "                \"\"\",\n",
    "                {\"dob\": dob, \"email\": email, \"fullName\": full_name, \"phone\": phone, \"ssn\": ssn})\n",
    "    return result_df"
   ]
  },
  {
   "cell_type": "code",
   "execution_count": 0,
   "metadata": {
    "application/vnd.databricks.v1+cell": {
     "cellMetadata": {
      "byteLimit": 2048000,
      "rowLimit": 10000
     },
     "inputWidgets": {},
     "nuid": "737136a3-6fa2-4f94-b74a-65568aed7b4a",
     "showTitle": false,
     "title": ""
    }
   },
   "outputs": [
    {
     "output_type": "execute_result",
     "data": {
      "text/html": [
       "<div>\n",
       "<style scoped>\n",
       "    .dataframe tbody tr th:only-of-type {\n",
       "        vertical-align: middle;\n",
       "    }\n",
       "\n",
       "    .dataframe tbody tr th {\n",
       "        vertical-align: top;\n",
       "    }\n",
       "\n",
       "    .dataframe thead th {\n",
       "        text-align: right;\n",
       "    }\n",
       "</style>\n",
       "<table border=\"1\" class=\"dataframe\">\n",
       "  <thead>\n",
       "    <tr style=\"text-align: right;\">\n",
       "      <th></th>\n",
       "      <th>userId</th>\n",
       "      <th>exactMatchedProperties</th>\n",
       "      <th>fuzzyMatchedProperties</th>\n",
       "      <th>avgScore</th>\n",
       "      <th>birthdates</th>\n",
       "      <th>emails</th>\n",
       "      <th>fullNames</th>\n",
       "      <th>phoneNumbers</th>\n",
       "      <th>socialSecurityNumbers</th>\n",
       "    </tr>\n",
       "  </thead>\n",
       "  <tbody>\n",
       "    <tr>\n",
       "      <th>0</th>\n",
       "      <td>4fq0zh1j-0y31-9i2u-vjp7-z9h9gr8e59n4</td>\n",
       "      <td>[dob, email, name, phone, ssn]</td>\n",
       "      <td>[]</td>\n",
       "      <td>8.145221</td>\n",
       "      <td>[1930-08-28]</td>\n",
       "      <td>[dolored.laborumb32@ex.com]</td>\n",
       "      <td>[Belitd, Iutk Rincididunts]</td>\n",
       "      <td>[268-023-9381]</td>\n",
       "      <td>[996-32-0300]</td>\n",
       "    </tr>\n",
       "  </tbody>\n",
       "</table>\n",
       "</div>"
      ],
      "text/plain": [
       "                                 userId  ... socialSecurityNumbers\n",
       "0  4fq0zh1j-0y31-9i2u-vjp7-z9h9gr8e59n4  ...         [996-32-0300]\n",
       "\n",
       "[1 rows x 9 columns]"
      ]
     },
     "execution_count": 31,
     "metadata": {},
     "output_type": "execute_result"
    }
   ],
   "source": [
    "search_profile(\"1930-08-28\", \"dolored.laborumb32@ex.com\", \"Belitd, Iutk Rincididunts\", \"268-023-9381\", \"996-32-0300\")"
   ]
  },
  {
   "cell_type": "code",
   "execution_count": 0,
   "metadata": {
    "application/vnd.databricks.v1+cell": {
     "cellMetadata": {
      "byteLimit": 2048000,
      "rowLimit": 10000
     },
     "inputWidgets": {},
     "nuid": "2be8c296-228c-4895-8e7a-ad5b6a9303e8",
     "showTitle": false,
     "title": ""
    }
   },
   "outputs": [
    {
     "output_type": "execute_result",
     "data": {
      "text/html": [
       "<div>\n",
       "<style scoped>\n",
       "    .dataframe tbody tr th:only-of-type {\n",
       "        vertical-align: middle;\n",
       "    }\n",
       "\n",
       "    .dataframe tbody tr th {\n",
       "        vertical-align: top;\n",
       "    }\n",
       "\n",
       "    .dataframe thead th {\n",
       "        text-align: right;\n",
       "    }\n",
       "</style>\n",
       "<table border=\"1\" class=\"dataframe\">\n",
       "  <thead>\n",
       "    <tr style=\"text-align: right;\">\n",
       "      <th></th>\n",
       "      <th>userId</th>\n",
       "      <th>exactMatchedProperties</th>\n",
       "      <th>fuzzyMatchedProperties</th>\n",
       "      <th>avgScore</th>\n",
       "      <th>birthdates</th>\n",
       "      <th>emails</th>\n",
       "      <th>fullNames</th>\n",
       "      <th>phoneNumbers</th>\n",
       "      <th>socialSecurityNumbers</th>\n",
       "    </tr>\n",
       "  </thead>\n",
       "  <tbody>\n",
       "    <tr>\n",
       "      <th>0</th>\n",
       "      <td>4fq0zh1j-0y31-9i2u-vjp7-z9h9gr8e59n4</td>\n",
       "      <td>[name]</td>\n",
       "      <td>[dob, email, phone, ssn]</td>\n",
       "      <td>7.718754</td>\n",
       "      <td>[1930-08-28]</td>\n",
       "      <td>[dolored.laborumb32@ex.com]</td>\n",
       "      <td>[Belitd, Iutk Rincididunts]</td>\n",
       "      <td>[268-023-9381]</td>\n",
       "      <td>[996-32-0300]</td>\n",
       "    </tr>\n",
       "  </tbody>\n",
       "</table>\n",
       "</div>"
      ],
      "text/plain": [
       "                                 userId  ... socialSecurityNumbers\n",
       "0  4fq0zh1j-0y31-9i2u-vjp7-z9h9gr8e59n4  ...         [996-32-0300]\n",
       "\n",
       "[1 rows x 9 columns]"
      ]
     },
     "execution_count": 32,
     "metadata": {},
     "output_type": "execute_result"
    }
   ],
   "source": [
    "search_profile(\"1933-08-28\", \"dolored.laborumb32@en.com\", \"Belitd, Iutk Rincididunts\", \"268-033-9381\", \"996-32-00300\")"
   ]
  },
  {
   "cell_type": "code",
   "execution_count": 0,
   "metadata": {
    "application/vnd.databricks.v1+cell": {
     "cellMetadata": {
      "byteLimit": 2048000,
      "rowLimit": 10000
     },
     "inputWidgets": {},
     "nuid": "1f47fb69-9674-4fb7-b032-eb6087951647",
     "showTitle": false,
     "title": ""
    }
   },
   "outputs": [
    {
     "output_type": "execute_result",
     "data": {
      "text/html": [
       "<div>\n",
       "<style scoped>\n",
       "    .dataframe tbody tr th:only-of-type {\n",
       "        vertical-align: middle;\n",
       "    }\n",
       "\n",
       "    .dataframe tbody tr th {\n",
       "        vertical-align: top;\n",
       "    }\n",
       "\n",
       "    .dataframe thead th {\n",
       "        text-align: right;\n",
       "    }\n",
       "</style>\n",
       "<table border=\"1\" class=\"dataframe\">\n",
       "  <thead>\n",
       "    <tr style=\"text-align: right;\">\n",
       "      <th></th>\n",
       "      <th>userId</th>\n",
       "      <th>exactMatchedProperties</th>\n",
       "      <th>fuzzyMatchedProperties</th>\n",
       "      <th>avgScore</th>\n",
       "      <th>birthdates</th>\n",
       "      <th>emails</th>\n",
       "      <th>fullNames</th>\n",
       "      <th>phoneNumbers</th>\n",
       "      <th>socialSecurityNumbers</th>\n",
       "    </tr>\n",
       "  </thead>\n",
       "  <tbody>\n",
       "    <tr>\n",
       "      <th>0</th>\n",
       "      <td>4fq0zh1j-0y31-9i2u-vjp7-z9h9gr8e59n4</td>\n",
       "      <td>[name]</td>\n",
       "      <td>[phone, ssn]</td>\n",
       "      <td>9.005496</td>\n",
       "      <td>[1930-08-28]</td>\n",
       "      <td>[dolored.laborumb32@ex.com]</td>\n",
       "      <td>[Belitd, Iutk Rincididunts]</td>\n",
       "      <td>[268-023-9381]</td>\n",
       "      <td>[996-32-0300]</td>\n",
       "    </tr>\n",
       "  </tbody>\n",
       "</table>\n",
       "</div>"
      ],
      "text/plain": [
       "                                 userId  ... socialSecurityNumbers\n",
       "0  4fq0zh1j-0y31-9i2u-vjp7-z9h9gr8e59n4  ...         [996-32-0300]\n",
       "\n",
       "[1 rows x 9 columns]"
      ]
     },
     "execution_count": 33,
     "metadata": {},
     "output_type": "execute_result"
    }
   ],
   "source": [
    "search_profile(\"1993-07-14\", \"xyz@abc.com\", \"Belitd, Iutk Rincididunts\", \"268-033-9381\", \"996-32-00300\")"
   ]
  }
 ],
 "metadata": {
  "application/vnd.databricks.v1+notebook": {
   "dashboards": [],
   "environmentMetadata": null,
   "language": "python",
   "notebookMetadata": {
    "pythonIndentUnit": 4
   },
   "notebookName": "Search profile",
   "widgets": {}
  }
 },
 "nbformat": 4,
 "nbformat_minor": 0
}
