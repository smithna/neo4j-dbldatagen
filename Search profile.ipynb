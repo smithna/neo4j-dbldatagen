{
 "cells": [
  {
   "cell_type": "code",
   "execution_count": null,
   "metadata": {
    "collapsed": false,
    "jupyter": {
     "outputs_hidden": false
    }
   },
   "outputs": [],
   "source": [
    "from graphdatascience import GraphDataScience\n",
    "from getpass import getpass"
   ]
  },
  {
   "cell_type": "markdown",
   "metadata": {},
   "source": [
    "# Connect to Neo4j"
   ]
  },
  {
   "cell_type": "code",
   "execution_count": null,
   "metadata": {
    "collapsed": false,
    "jupyter": {
     "outputs_hidden": false
    }
   },
   "outputs": [],
   "source": [
    "neo4j_password = getpass(\"Neo4j password\")"
   ]
  },
  {
   "cell_type": "code",
   "execution_count": null,
   "metadata": {
    "collapsed": false,
    "jupyter": {
     "outputs_hidden": false
    }
   },
   "outputs": [],
   "source": [
    "url = \"neo4j+s://5f8297f1.databases.neo4j.io\"\n",
    "username = \"neo4j\"\n",
    "gds = GraphDataScience(url, auth=(username, neo4j_password))"
   ]
  },
  {
   "cell_type": "markdown",
   "metadata": {},
   "source": [
    "# Create Full text indexes\n",
    "This is a one-time step to create the indexes you will need."
   ]
  },
  {
   "cell_type": "code",
   "execution_count": null,
   "metadata": {
    "collapsed": false,
    "jupyter": {
     "outputs_hidden": false
    }
   },
   "outputs": [],
   "source": [
    "def create_fulltext_index(index_name, label, property, analyzer):\n",
    "    query = f\"\"\"\n",
    "        CREATE FULLTEXT INDEX $indexName IF NOT EXISTS FOR (n:{label}) ON EACH [n.{property}]\n",
    "        OPTIONS {{\n",
    "            indexConfig: {{\n",
    "                `fulltext.analyzer`: $analyzer,\n",
    "                `fulltext.eventually_consistent`: true\n",
    "            }}\n",
    "        }}\"\"\"\n",
    "    gds.run_cypher(query, {\"indexName\":index_name, \"analyzer\":analyzer})\n",
    "\n",
    "create_fulltext_index(\"full_name_full_text\", \"PersonName\", \"fullName\", \"keyword\")\n",
    "create_fulltext_index(\"phone_number_full_text\", \"PhoneNumber\", \"phoneNumber\", \"keyword\")\n",
    "create_fulltext_index(\"ssn_full_text\", \"SocialSecurityNumber\", \"socialSecurityNumber\", \"keyword\")\n",
    "create_fulltext_index(\"email_full_text\", \"Email\", \"email\", \"email\")\n",
    "create_fulltext_index(\"dob_string_full_text\", \"DOB\", \"birthdateString\", \"keyword\")\n",
    "\n",
    "gds.run_cypher(\"show fulltext indexes\")"
   ]
  },
  {
   "cell_type": "markdown",
   "metadata": {},
   "source": [
    "# Create a function to query the full text indexes to find profiles that match at least two of the parameter values you provide."
   ]
  },
  {
   "cell_type": "code",
   "execution_count": null,
   "metadata": {
    "collapsed": false,
    "jupyter": {
     "outputs_hidden": false
    }
   },
   "outputs": [],
   "source": [
    "def search_profile(dob, email, full_name, phone, ssn):\n",
    "    result_df = gds.run_cypher(\"\"\"\n",
    "        CALL {\n",
    "            CALL db.index.fulltext.queryNodes(\"dob_string_full_text\", $dob + \"~\", {limit:5}) YIELD node, score\n",
    "            MATCH (u:UserDescription)-[:HAS_DOB]->(node)\n",
    "            RETURN u, score, \n",
    "            {property: \"dob\", matchType: CASE WHEN node.birthdateString = $dob THEN \"Exact\" ELSE \"Fuzzy\" END} AS matched\n",
    "\n",
    "            UNION ALL\n",
    "\n",
    "            CALL db.index.fulltext.queryNodes(\"email_full_text\", $email + \"~\", {limit:5}) YIELD node, score\n",
    "            MATCH (u:UserDescription)-[:HAS_EMAIL]->(node)\n",
    "            RETURN u, score, \n",
    "            {property: \"email\", matchType: CASE WHEN node.email = $email THEN \"Exact\" ELSE \"Fuzzy\" END} AS matched\n",
    "\n",
    "            UNION ALL\n",
    "\n",
    "            CALL db.index.fulltext.queryNodes(\"full_name_full_text\", $fullName + \"~\", {limit:5}) YIELD node, score\n",
    "            MATCH (u:UserDescription)-[:HAS_NAME]->(node)\n",
    "            RETURN u, score, \n",
    "            {property: \"name\", matchType: CASE WHEN node.fullName = $fullName THEN \"Exact\" ELSE \"Fuzzy\" END} AS matched\n",
    "\n",
    "                    \n",
    "            UNION ALL\n",
    "\n",
    "            CALL db.index.fulltext.queryNodes(\"phone_number_full_text\", $phone + \"~\", {limit:5}) YIELD node, score\n",
    "            MATCH (u:UserDescription)-[:HAS_PHONE]->(node)\n",
    "            RETURN u, score, \n",
    "            {property: \"phone\", matchType: CASE WHEN node.phoneNumber = $phone THEN \"Exact\" ELSE \"Fuzzy\" END} AS matched\n",
    "\n",
    "            UNION ALL\n",
    "\n",
    "            CALL db.index.fulltext.queryNodes(\"ssn_full_text\", $ssn + \"~\", {limit:5}) YIELD node, score\n",
    "            MATCH (u:UserDescription)-[:HAS_SOCIAL_SECURITY_NUMBER]->(node)\n",
    "            RETURN u, score, \n",
    "            {property: \"ssn\", matchType: CASE WHEN node.socialSecurityNumber = $ssn THEN \"Exact\" ELSE \"Fuzzy\" END} AS matched\n",
    "        }\n",
    "\n",
    "        WITH u, avg(score) AS avgScore, collect(matched) AS cluesMatched\n",
    "        WHERE size(cluesMatched) > 1\n",
    "\n",
    "        RETURN u.userId AS userId, \n",
    "        [clue IN cluesMatched WHERE clue['matchType'] = 'Exact' | clue['property']] AS exactMatchedProperties,\n",
    "        [clue IN cluesMatched WHERE clue['matchType'] = 'Fuzzy' | clue['property']] AS fuzzyMatchedProperties,\n",
    "        avgScore,\n",
    "        COLLECT{ MATCH (u)-[:HAS_DOB]->(n) RETURN n.birthdateString } AS birthdates,\n",
    "        COLLECT{ MATCH (u)-[:HAS_EMAIL]->(n) RETURN n.email } AS emails,\n",
    "        COLLECT{ MATCH (u)-[:HAS_NAME]->(n) RETURN n.fullName } AS fullNames,\n",
    "        COLLECT{ MATCH (u)-[:HAS_PHONE]->(n) RETURN n.phoneNumber } AS phoneNumbers,\n",
    "        COLLECT{ MATCH (u)-[:HAS_SOCIAL_SECURITY_NUMBER]->(n) RETURN n.socialSecurityNumber } AS socialSecurityNumbers\n",
    "            \n",
    "        ORDER BY size(cluesMatched) DESC, avgScore DESC\n",
    "                \"\"\",\n",
    "                {\"dob\": dob, \"email\": email, \"fullName\": full_name, \"phone\": phone, \"ssn\": ssn})\n",
    "    return result_df"
   ]
  },
  {
   "cell_type": "markdown",
   "metadata": {},
   "source": [
    "# Test the function\n",
    "## Exact match all properties"
   ]
  },
  {
   "cell_type": "code",
   "execution_count": null,
   "metadata": {
    "collapsed": false,
    "jupyter": {
     "outputs_hidden": false
    }
   },
   "outputs": [],
   "source": [
    "search_profile(\"1930-08-28\", \"dolored.laborumb32@ex.com\", \"Belitd, Iutk Rincididunts\", \"268-023-9381\", \"996-32-0300\")"
   ]
  },
  {
   "cell_type": "markdown",
   "metadata": {},
   "source": [
    "## Exact match some properties and fuzzy match others"
   ]
  },
  {
   "cell_type": "code",
   "execution_count": null,
   "metadata": {
    "collapsed": false,
    "jupyter": {
     "outputs_hidden": false
    }
   },
   "outputs": [],
   "source": [
    "search_profile(\"1933-08-28\", \"dolored.laborumb32@en.com\", \"Belitd, Iutk Rincididunts\", \"268-033-9381\", \"996-32-00300\")"
   ]
  },
  {
   "cell_type": "markdown",
   "metadata": {},
   "source": [
    "## Match three properties and mismatch others"
   ]
  },
  {
   "cell_type": "code",
   "execution_count": null,
   "metadata": {
    "collapsed": false,
    "jupyter": {
     "outputs_hidden": false
    }
   },
   "outputs": [],
   "source": [
    "search_profile(\"1993-07-14\", \"xyz@abc.com\", \"Belitd, Iutk Rincididunts\", \"268-033-9381\", \"996-32-00300\")"
   ]
  }
 ],
 "metadata": {
  "application/vnd.databricks.v1+notebook": {
   "dashboards": [],
   "environmentMetadata": null,
   "language": "python",
   "notebookMetadata": {
    "pythonIndentUnit": 4
   },
   "notebookName": "Search profile",
   "widgets": {}
  },
  "kernelspec": {
   "display_name": "Python 3 (ipykernel)",
   "language": "python",
   "name": "python3"
  },
  "language_info": {
   "codemirror_mode": {
    "name": "ipython",
    "version": 3
   },
   "file_extension": ".py",
   "mimetype": "text/x-python",
   "name": "python",
   "nbconvert_exporter": "python",
   "pygments_lexer": "ipython3",
   "version": "3.10.9"
  }
 },
 "nbformat": 4,
 "nbformat_minor": 4
}
