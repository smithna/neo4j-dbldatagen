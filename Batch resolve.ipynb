{
 "cells": [
  {
   "cell_type": "code",
   "execution_count": 40,
   "id": "initial_id",
   "metadata": {
    "collapsed": true,
    "ExecuteTime": {
     "end_time": "2024-06-10T12:15:38.505282Z",
     "start_time": "2024-06-10T12:15:38.502369Z"
    }
   },
   "outputs": [],
   "source": [
    "from graphdatascience import GraphDataScience\n",
    "from getpass import getpass"
   ]
  },
  {
   "cell_type": "code",
   "outputs": [],
   "source": [
    "neo4j_password = getpass(\"Neo4j password:\")"
   ],
   "metadata": {
    "collapsed": false,
    "ExecuteTime": {
     "end_time": "2024-06-10T12:15:41.231669Z",
     "start_time": "2024-06-10T12:15:38.567056Z"
    }
   },
   "id": "874cdd30eadcff71",
   "execution_count": 41
  },
  {
   "cell_type": "code",
   "outputs": [],
   "source": [
    "neo4j_url = \"neo4j+s://5f8297f1.databases.neo4j.io\"\n",
    "auth = (\"neo4j\", neo4j_password)\n",
    "gds = GraphDataScience(neo4j_url, auth=auth)"
   ],
   "metadata": {
    "collapsed": false,
    "ExecuteTime": {
     "end_time": "2024-06-10T12:16:04.226385Z",
     "start_time": "2024-06-10T12:15:41.234433Z"
    }
   },
   "id": "a11f01769f61e25",
   "execution_count": 42
  },
  {
   "cell_type": "markdown",
   "source": [
    "## Project the whole graph (50M profiles X 4 identifiers)\n",
    "We expect many distinct profiles to share the same birthdate, so don't include DOB in this projection"
   ],
   "metadata": {
    "collapsed": false
   },
   "id": "e76b2e46ce2386b0"
  },
  {
   "cell_type": "code",
   "outputs": [
    {
     "data": {
      "text/plain": "Loading:   0%|          | 0/100 [00:00<?, ?%/s]",
      "application/vnd.jupyter.widget-view+json": {
       "version_major": 2,
       "version_minor": 0,
       "model_id": "992eae1484e94d70ab157f9eaa90d034"
      }
     },
     "metadata": {},
     "output_type": "display_data"
    }
   ],
   "source": [
    "g_identity, result = gds.graph.project(\"g_identity\",\n",
    "                                       [\"UserDescription\", \"PhoneNumber\", \"Email\", \"SocialSecurityNumber\", \"PersonName\"],\n",
    "                                       {\"HAS_PHONE\":{\"orientation\":\"UNDIRECTED\"}, \n",
    "                                        \"HAS_EMAIL\":{\"orientation\":\"UNDIRECTED\"}, \n",
    "                                        \"HAS_SOCIAL_SECURITY_NUMBER\":{\"orientation\":\"UNDIRECTED\"}, \n",
    "                                        \"HAS_NAME\":{\"orientation\":\"UNDIRECTED\"}},\n",
    "                                       readConcurrency=20)"
   ],
   "metadata": {
    "collapsed": false,
    "ExecuteTime": {
     "end_time": "2024-06-10T12:17:44.672113Z",
     "start_time": "2024-06-10T12:16:04.229423Z"
    }
   },
   "id": "7ded696b36990122",
   "execution_count": 43
  },
  {
   "cell_type": "code",
   "outputs": [
    {
     "data": {
      "text/plain": "nodeProjection            {'SocialSecurityNumber': {'label': 'SocialSecu...\nrelationshipProjection    {'HAS_NAME': {'aggregation': 'DEFAULT', 'orien...\ngraphName                                                        g_identity\nnodeCount                                                         248520095\nrelationshipCount                                                 400016000\nprojectMillis                                                         75551\nName: 0, dtype: object"
     },
     "execution_count": 44,
     "metadata": {},
     "output_type": "execute_result"
    }
   ],
   "source": [
    "result"
   ],
   "metadata": {
    "collapsed": false,
    "ExecuteTime": {
     "end_time": "2024-06-10T12:17:44.692134Z",
     "start_time": "2024-06-10T12:17:44.679706Z"
    }
   },
   "id": "7be0b3c410374968",
   "execution_count": 44
  },
  {
   "cell_type": "markdown",
   "source": [
    "## Run Weakly Connected Components in stats mode\n",
    "Make sure the component distribution makes sense."
   ],
   "metadata": {
    "collapsed": false
   },
   "id": "c377d5df3014d949"
  },
  {
   "cell_type": "code",
   "outputs": [
    {
     "data": {
      "text/plain": "WCC:   0%|          | 0/100 [00:00<?, ?%/s]",
      "application/vnd.jupyter.widget-view+json": {
       "version_major": 2,
       "version_minor": 0,
       "model_id": "481fa92446c6429fa5cbca51b0984546"
      }
     },
     "metadata": {},
     "output_type": "display_data"
    }
   ],
   "source": [
    "wcc_stats = gds.wcc.stats(g_identity,\n",
    "                          concurrency=20)"
   ],
   "metadata": {
    "collapsed": false,
    "ExecuteTime": {
     "end_time": "2024-06-10T12:18:15.992643Z",
     "start_time": "2024-06-10T12:17:44.694194Z"
    }
   },
   "id": "2180acb27b5789f",
   "execution_count": 45
  },
  {
   "cell_type": "code",
   "outputs": [
    {
     "data": {
      "text/plain": "{'min': 5,\n 'p5': 5,\n 'max': 25,\n 'p999': 9,\n 'p99': 9,\n 'p1': 5,\n 'p10': 5,\n 'p90': 5,\n 'p50': 5,\n 'p25': 5,\n 'p75': 5,\n 'p95': 5,\n 'mean': 5.122458072360732}"
     },
     "execution_count": 46,
     "metadata": {},
     "output_type": "execute_result"
    }
   ],
   "source": [
    "wcc_stats['componentDistribution']"
   ],
   "metadata": {
    "collapsed": false,
    "ExecuteTime": {
     "end_time": "2024-06-10T12:18:16.010584Z",
     "start_time": "2024-06-10T12:18:15.996814Z"
    }
   },
   "id": "5667b71f1676323",
   "execution_count": 46
  },
  {
   "cell_type": "code",
   "outputs": [
    {
     "data": {
      "text/plain": "48515789"
     },
     "execution_count": 47,
     "metadata": {},
     "output_type": "execute_result"
    }
   ],
   "source": [
    "wcc_stats['componentCount']"
   ],
   "metadata": {
    "collapsed": false,
    "ExecuteTime": {
     "end_time": "2024-06-10T12:18:16.020893Z",
     "start_time": "2024-06-10T12:18:16.014261Z"
    }
   },
   "id": "398be85a3beab062",
   "execution_count": 47
  },
  {
   "cell_type": "code",
   "outputs": [
    {
     "data": {
      "text/plain": "WCC:   0%|          | 0/100 [00:00<?, ?%/s]",
      "application/vnd.jupyter.widget-view+json": {
       "version_major": 2,
       "version_minor": 0,
       "model_id": "d01f08b7f1de423ab83b199082d07010"
      }
     },
     "metadata": {},
     "output_type": "display_data"
    },
    {
     "data": {
      "text/plain": "writeMillis                                                          33479\nnodePropertiesWritten                                             13136655\ncomponentCount                                                    48515789\ncomponentDistribution    {'min': 5, 'p5': 5, 'max': 25, 'p999': 9, 'p99...\npostProcessingMillis                                                  1579\npreProcessingMillis                                                      0\ncomputeMillis                                                        13538\nconfiguration            {'writeProperty': 'wccId', 'jobId': '47202dc3-...\nName: 0, dtype: object"
     },
     "execution_count": 48,
     "metadata": {},
     "output_type": "execute_result"
    }
   ],
   "source": [
    "gds.wcc.write(g_identity,\n",
    "               writeProperty=\"wccId\",\n",
    "               minComponentSize=6,\n",
    "               concurrency=20)"
   ],
   "metadata": {
    "collapsed": false,
    "ExecuteTime": {
     "end_time": "2024-06-10T12:19:21.797508Z",
     "start_time": "2024-06-10T12:18:16.025243Z"
    }
   },
   "id": "8c9e4b55ecf71d3c",
   "execution_count": 48
  },
  {
   "cell_type": "markdown",
   "source": [
    "## Drop the graph projection to free up memory"
   ],
   "metadata": {
    "collapsed": false
   },
   "id": "57caa1941e7e2aa2"
  },
  {
   "cell_type": "code",
   "outputs": [
    {
     "data": {
      "text/plain": "graphName                                                       g_identity\ndatabase                                                             neo4j\ndatabaseLocation                                                     local\nmemoryUsage                                                               \nsizeInBytes                                                             -1\nnodeCount                                                        248520095\nrelationshipCount                                                400016000\nconfiguration            {'relationshipProjection': {'HAS_NAME': {'aggr...\ndensity                                                                0.0\ncreationTime                           2024-06-10T12:16:19.479525968+00:00\nmodificationTime                       2024-06-10T12:17:35.041569086+00:00\nschema                   {'graphProperties': {}, 'nodes': {'SocialSecur...\nschemaWithOrientation    {'graphProperties': {}, 'nodes': {'SocialSecur...\nName: 0, dtype: object"
     },
     "execution_count": 49,
     "metadata": {},
     "output_type": "execute_result"
    }
   ],
   "source": [
    "gds.graph.drop(g_identity)"
   ],
   "metadata": {
    "collapsed": false,
    "ExecuteTime": {
     "end_time": "2024-06-10T12:19:21.992282Z",
     "start_time": "2024-06-10T12:19:21.805968Z"
    }
   },
   "id": "fc1d667ac7170c75",
   "execution_count": 49
  },
  {
   "cell_type": "markdown",
   "source": [
    "## The biggest component has 25 nodes. It's reasonable to calculate similarity with Cypher."
   ],
   "metadata": {
    "collapsed": false
   },
   "id": "fa70a4664403efc5"
  },
  {
   "cell_type": "code",
   "outputs": [],
   "source": [
    "matching_result_df = gds.run_cypher(\"\"\"\n",
    "    CALL apoc.periodic.iterate(\n",
    "        \"MATCH (u:UserDescription) WHERE u.wccId IS NOT NULL\n",
    "        WITH u.wccId AS wccId, collect(u) AS component\n",
    "        RETURN component\",\n",
    "        'WITH apoc.coll.combinations(component, 2, 2) AS pairs\n",
    "        UNWIND pairs AS pair\n",
    "        WITH pair[0] AS u1, pair[1] AS u2\n",
    "        CALL {\n",
    "            WITH u1, u2\n",
    "            MATCH (u1)-[:HAS_DOB]->(n1), (u2)-[:HAS_DOB]->(n2)\n",
    "            WHERE apoc.text.levenshteinDistance(n1.birthdateString, n2.birthdateString) <= 2\n",
    "            RETURN DISTINCT {property: \"dob\", matchType: CASE WHEN n1.birthdateString = n2.birthdateString THEN \"Exact\" ELSE \"Fuzzy\" END} AS matched\n",
    "            \n",
    "            UNION ALL\n",
    "\n",
    "            WITH u1, u2\n",
    "            MATCH (u1)-[:HAS_EMAIL]->(n1), (u2)-[:HAS_EMAIL]->(n2)\n",
    "            WHERE apoc.text.levenshteinDistance(n1.email, n2.email) <= 2\n",
    "            RETURN DISTINCT {property: \"email\", matchType: CASE WHEN n1.email = n2.email THEN \"Exact\" ELSE \"Fuzzy\" END} AS matched\n",
    "            \n",
    "            UNION ALL\n",
    "\n",
    "            WITH u1, u2\n",
    "            MATCH (u1)-[:HAS_NAME]->(n1), (u2)-[:HAS_NAME]->(n2)\n",
    "            WHERE apoc.text.levenshteinDistance(n1.fullName, n2.fullName) <= 2\n",
    "            RETURN DISTINCT {property: \"name\", matchType: CASE WHEN n1.fullName = n2.fullName THEN \"Exact\" ELSE \"Fuzzy\" END} AS matched\n",
    "                    \n",
    "            UNION ALL\n",
    "\n",
    "            WITH u1, u2\n",
    "            MATCH (u1)-[:HAS_PHONE]->(n1), (u2)-[:HAS_PHONE]->(n2)\n",
    "            WHERE apoc.text.levenshteinDistance(n1.phoneNumber, n2.phoneNumber) <= 2\n",
    "            RETURN DISTINCT {property: \"phone\", matchType: CASE WHEN n1.phoneNumber = n2.phoneNumber THEN \"Exact\" ELSE \"Fuzzy\" END} AS matched\n",
    "\n",
    "            UNION ALL\n",
    "            \n",
    "            WITH u1, u2\n",
    "            MATCH (u1)-[:HAS_SOCIAL_SECURITY_NUMBER]->(n1), (u2)-[:HAS_SOCIAL_SECURITY_NUMBER]->(n2)\n",
    "            WHERE apoc.text.levenshteinDistance(n1.socialSecurityNumber, n2.socialSecurityNumber) <= 2\n",
    "            RETURN DISTINCT {property: \"ssn\", matchType: CASE WHEN n1.socialSecurityNumber = n2.socialSecurityNumber THEN \"Exact\" ELSE \"Fuzzy\" END} AS matched\n",
    "        }\n",
    "        WITH u1, u2, collect(matched) AS cluesMatched\n",
    "        WHERE size(cluesMatched) > 1\n",
    "        \n",
    "        MERGE (u1)-[s:IS_SIMILAR]->(u2)\n",
    "        SET s.exactMatchedProperties = [clue IN cluesMatched WHERE clue[\"matchType\"] = \"Exact\" | clue[\"property\"]],\n",
    "        s.fuzzyMatchedProperties = [clue IN cluesMatched WHERE clue[\"matchType\"] = \"Fuzzy\" | clue[\"property\"]]',\n",
    "    {parallel:True})\n",
    "    \"\"\")"
   ],
   "metadata": {
    "collapsed": false,
    "ExecuteTime": {
     "end_time": "2024-06-10T12:21:52.957636Z",
     "start_time": "2024-06-10T12:19:21.995305Z"
    }
   },
   "id": "93d7d2aae336e43c",
   "execution_count": 50
  },
  {
   "cell_type": "code",
   "outputs": [
    {
     "data": {
      "text/plain": "   batches    total  timeTaken  committedOperations  failedOperations  \\\n0      144  1439101        150              1439101                 0   \n\n   failedBatches  retries errorMessages  \\\n0              0        0            {}   \n\n                                               batch  \\\n0  {'total': 144, 'errors': {}, 'committed': 144,...   \n\n                                          operations  wasTerminated  \\\n0  {'total': 1439101, 'errors': {}, 'committed': ...          False   \n\n  failedParams                                   updateStatistics  \n0           {}  {'relationshipsDeleted': 0, 'relationshipsCrea...  ",
      "text/html": "<div>\n<style scoped>\n    .dataframe tbody tr th:only-of-type {\n        vertical-align: middle;\n    }\n\n    .dataframe tbody tr th {\n        vertical-align: top;\n    }\n\n    .dataframe thead th {\n        text-align: right;\n    }\n</style>\n<table border=\"1\" class=\"dataframe\">\n  <thead>\n    <tr style=\"text-align: right;\">\n      <th></th>\n      <th>batches</th>\n      <th>total</th>\n      <th>timeTaken</th>\n      <th>committedOperations</th>\n      <th>failedOperations</th>\n      <th>failedBatches</th>\n      <th>retries</th>\n      <th>errorMessages</th>\n      <th>batch</th>\n      <th>operations</th>\n      <th>wasTerminated</th>\n      <th>failedParams</th>\n      <th>updateStatistics</th>\n    </tr>\n  </thead>\n  <tbody>\n    <tr>\n      <th>0</th>\n      <td>144</td>\n      <td>1439101</td>\n      <td>150</td>\n      <td>1439101</td>\n      <td>0</td>\n      <td>0</td>\n      <td>0</td>\n      <td>{}</td>\n      <td>{'total': 144, 'errors': {}, 'committed': 144,...</td>\n      <td>{'total': 1439101, 'errors': {}, 'committed': ...</td>\n      <td>False</td>\n      <td>{}</td>\n      <td>{'relationshipsDeleted': 0, 'relationshipsCrea...</td>\n    </tr>\n  </tbody>\n</table>\n</div>"
     },
     "execution_count": 51,
     "metadata": {},
     "output_type": "execute_result"
    }
   ],
   "source": [
    "matching_result_df"
   ],
   "metadata": {
    "collapsed": false,
    "ExecuteTime": {
     "end_time": "2024-06-10T12:21:52.980620Z",
     "start_time": "2024-06-10T12:21:52.961873Z"
    }
   },
   "id": "b27a19a728246ff",
   "execution_count": 51
  },
  {
   "cell_type": "code",
   "outputs": [],
   "source": [
    "sim_result = gds.run_cypher(\"\"\"\n",
    "    MATCH (u1)-[s:IS_SIMILAR]->(u2)\n",
    "    RETURN u1.userId As u1Id, u2.userId AS u2Id, s.exactMatchedProperties AS exactMatchedProperties, s.fuzzyMatchedProperties AS fuzzyMatchedProperties\n",
    "\"\"\")"
   ],
   "metadata": {
    "collapsed": false,
    "ExecuteTime": {
     "end_time": "2024-06-10T12:22:09.247025Z",
     "start_time": "2024-06-10T12:21:52.982435Z"
    }
   },
   "id": "f9f84a2203542cfc",
   "execution_count": 52
  },
  {
   "cell_type": "code",
   "outputs": [
    {
     "data": {
      "text/plain": "                                   u1Id                                  u2Id  \\\n0  kvmjhefi-bxb5-hzis-viny-h3p8anfgzcj5  t07u2h0p-6ej3-06zg-ddko-vf6qrtrz1z7t   \n1  zs8y17qo-l31o-s63u-p678-hyjrqr0k4i9e  y9phlm86-upec-j5te-p3vk-xtptoueghmpu   \n2  5lhy9ro6-y51k-e9wj-08ln-t4odkn4wq9pq  fh8fgtl8-96zs-6cxx-8tbd-u1dt4bwge4ie   \n3  3jcnqak1-9w51-500m-fthh-0vz8rzlgzpy6  4mnqfs4y-weo4-i9fr-klh9-nrf00a0ryuj8   \n4  ebjpqce5-06tt-bkla-4jjz-lbkmdpxree64  da3cbe42-c10d-40ed-ac14-37b3481ee31c   \n\n      exactMatchedProperties fuzzyMatchedProperties  \n0                      [ssn]                  [dob]  \n1                      [ssn]                  [dob]  \n2                      [ssn]                  [dob]  \n3                      [ssn]                  [dob]  \n4  [dob, email, name, phone]                  [ssn]  ",
      "text/html": "<div>\n<style scoped>\n    .dataframe tbody tr th:only-of-type {\n        vertical-align: middle;\n    }\n\n    .dataframe tbody tr th {\n        vertical-align: top;\n    }\n\n    .dataframe thead th {\n        text-align: right;\n    }\n</style>\n<table border=\"1\" class=\"dataframe\">\n  <thead>\n    <tr style=\"text-align: right;\">\n      <th></th>\n      <th>u1Id</th>\n      <th>u2Id</th>\n      <th>exactMatchedProperties</th>\n      <th>fuzzyMatchedProperties</th>\n    </tr>\n  </thead>\n  <tbody>\n    <tr>\n      <th>0</th>\n      <td>kvmjhefi-bxb5-hzis-viny-h3p8anfgzcj5</td>\n      <td>t07u2h0p-6ej3-06zg-ddko-vf6qrtrz1z7t</td>\n      <td>[ssn]</td>\n      <td>[dob]</td>\n    </tr>\n    <tr>\n      <th>1</th>\n      <td>zs8y17qo-l31o-s63u-p678-hyjrqr0k4i9e</td>\n      <td>y9phlm86-upec-j5te-p3vk-xtptoueghmpu</td>\n      <td>[ssn]</td>\n      <td>[dob]</td>\n    </tr>\n    <tr>\n      <th>2</th>\n      <td>5lhy9ro6-y51k-e9wj-08ln-t4odkn4wq9pq</td>\n      <td>fh8fgtl8-96zs-6cxx-8tbd-u1dt4bwge4ie</td>\n      <td>[ssn]</td>\n      <td>[dob]</td>\n    </tr>\n    <tr>\n      <th>3</th>\n      <td>3jcnqak1-9w51-500m-fthh-0vz8rzlgzpy6</td>\n      <td>4mnqfs4y-weo4-i9fr-klh9-nrf00a0ryuj8</td>\n      <td>[ssn]</td>\n      <td>[dob]</td>\n    </tr>\n    <tr>\n      <th>4</th>\n      <td>ebjpqce5-06tt-bkla-4jjz-lbkmdpxree64</td>\n      <td>da3cbe42-c10d-40ed-ac14-37b3481ee31c</td>\n      <td>[dob, email, name, phone]</td>\n      <td>[ssn]</td>\n    </tr>\n  </tbody>\n</table>\n</div>"
     },
     "execution_count": 53,
     "metadata": {},
     "output_type": "execute_result"
    }
   ],
   "source": [
    "sim_result.head()"
   ],
   "metadata": {
    "collapsed": false,
    "ExecuteTime": {
     "end_time": "2024-06-10T12:22:09.255041Z",
     "start_time": "2024-06-10T12:22:09.248223Z"
    }
   },
   "id": "debb38c8edcc32f4",
   "execution_count": 53
  },
  {
   "cell_type": "code",
   "outputs": [
    {
     "data": {
      "text/plain": "(24746, 4)"
     },
     "execution_count": 54,
     "metadata": {},
     "output_type": "execute_result"
    }
   ],
   "source": [
    "sim_result.shape"
   ],
   "metadata": {
    "collapsed": false,
    "ExecuteTime": {
     "end_time": "2024-06-10T12:22:09.260955Z",
     "start_time": "2024-06-10T12:22:09.257243Z"
    }
   },
   "id": "115baad4df481dd2",
   "execution_count": 54
  },
  {
   "cell_type": "code",
   "outputs": [],
   "source": [
    "sim_result['exact_matched'] = sim_result['exactMatchedProperties'].str.join(\", \")\n",
    "sim_result['fuzzy_matched'] = sim_result['fuzzyMatchedProperties'].str.join(\", \")"
   ],
   "metadata": {
    "collapsed": false,
    "ExecuteTime": {
     "end_time": "2024-06-10T12:22:09.275770Z",
     "start_time": "2024-06-10T12:22:09.262435Z"
    }
   },
   "id": "15c27766f6d8a3b3",
   "execution_count": 55
  },
  {
   "cell_type": "code",
   "outputs": [
    {
     "data": {
      "text/plain": "                                             u1Id   u2Id  \\\nexact_matched                fuzzy_matched                 \n                             dob, ssn           2      2   \ndob, email                                      3      3   \ndob, email, name             phone, ssn       415    415   \ndob, email, name, phone      ssn              486    486   \ndob, email, name, phone, ssn                  109    109   \ndob, email, name, ssn        phone            490    490   \ndob, name, phone, ssn        email            500    500   \ndob, phone                                      1      1   \ndob, ssn                                       50     50   \nemail                        dob             1949   1949   \nname                         dob                1      1   \nphone                        dob             1883   1883   \nssn                          dob            18857  18857   \n\n                                            exactMatchedProperties  \\\nexact_matched                fuzzy_matched                           \n                             dob, ssn                            2   \ndob, email                                                       3   \ndob, email, name             phone, ssn                        415   \ndob, email, name, phone      ssn                               486   \ndob, email, name, phone, ssn                                   109   \ndob, email, name, ssn        phone                             490   \ndob, name, phone, ssn        email                             500   \ndob, phone                                                       1   \ndob, ssn                                                        50   \nemail                        dob                              1949   \nname                         dob                                 1   \nphone                        dob                              1883   \nssn                          dob                             18857   \n\n                                            fuzzyMatchedProperties  \nexact_matched                fuzzy_matched                          \n                             dob, ssn                            2  \ndob, email                                                       3  \ndob, email, name             phone, ssn                        415  \ndob, email, name, phone      ssn                               486  \ndob, email, name, phone, ssn                                   109  \ndob, email, name, ssn        phone                             490  \ndob, name, phone, ssn        email                             500  \ndob, phone                                                       1  \ndob, ssn                                                        50  \nemail                        dob                              1949  \nname                         dob                                 1  \nphone                        dob                              1883  \nssn                          dob                             18857  ",
      "text/html": "<div>\n<style scoped>\n    .dataframe tbody tr th:only-of-type {\n        vertical-align: middle;\n    }\n\n    .dataframe tbody tr th {\n        vertical-align: top;\n    }\n\n    .dataframe thead th {\n        text-align: right;\n    }\n</style>\n<table border=\"1\" class=\"dataframe\">\n  <thead>\n    <tr style=\"text-align: right;\">\n      <th></th>\n      <th></th>\n      <th>u1Id</th>\n      <th>u2Id</th>\n      <th>exactMatchedProperties</th>\n      <th>fuzzyMatchedProperties</th>\n    </tr>\n    <tr>\n      <th>exact_matched</th>\n      <th>fuzzy_matched</th>\n      <th></th>\n      <th></th>\n      <th></th>\n      <th></th>\n    </tr>\n  </thead>\n  <tbody>\n    <tr>\n      <th></th>\n      <th>dob, ssn</th>\n      <td>2</td>\n      <td>2</td>\n      <td>2</td>\n      <td>2</td>\n    </tr>\n    <tr>\n      <th>dob, email</th>\n      <th></th>\n      <td>3</td>\n      <td>3</td>\n      <td>3</td>\n      <td>3</td>\n    </tr>\n    <tr>\n      <th>dob, email, name</th>\n      <th>phone, ssn</th>\n      <td>415</td>\n      <td>415</td>\n      <td>415</td>\n      <td>415</td>\n    </tr>\n    <tr>\n      <th>dob, email, name, phone</th>\n      <th>ssn</th>\n      <td>486</td>\n      <td>486</td>\n      <td>486</td>\n      <td>486</td>\n    </tr>\n    <tr>\n      <th>dob, email, name, phone, ssn</th>\n      <th></th>\n      <td>109</td>\n      <td>109</td>\n      <td>109</td>\n      <td>109</td>\n    </tr>\n    <tr>\n      <th>dob, email, name, ssn</th>\n      <th>phone</th>\n      <td>490</td>\n      <td>490</td>\n      <td>490</td>\n      <td>490</td>\n    </tr>\n    <tr>\n      <th>dob, name, phone, ssn</th>\n      <th>email</th>\n      <td>500</td>\n      <td>500</td>\n      <td>500</td>\n      <td>500</td>\n    </tr>\n    <tr>\n      <th>dob, phone</th>\n      <th></th>\n      <td>1</td>\n      <td>1</td>\n      <td>1</td>\n      <td>1</td>\n    </tr>\n    <tr>\n      <th>dob, ssn</th>\n      <th></th>\n      <td>50</td>\n      <td>50</td>\n      <td>50</td>\n      <td>50</td>\n    </tr>\n    <tr>\n      <th>email</th>\n      <th>dob</th>\n      <td>1949</td>\n      <td>1949</td>\n      <td>1949</td>\n      <td>1949</td>\n    </tr>\n    <tr>\n      <th>name</th>\n      <th>dob</th>\n      <td>1</td>\n      <td>1</td>\n      <td>1</td>\n      <td>1</td>\n    </tr>\n    <tr>\n      <th>phone</th>\n      <th>dob</th>\n      <td>1883</td>\n      <td>1883</td>\n      <td>1883</td>\n      <td>1883</td>\n    </tr>\n    <tr>\n      <th>ssn</th>\n      <th>dob</th>\n      <td>18857</td>\n      <td>18857</td>\n      <td>18857</td>\n      <td>18857</td>\n    </tr>\n  </tbody>\n</table>\n</div>"
     },
     "execution_count": 56,
     "metadata": {},
     "output_type": "execute_result"
    }
   ],
   "source": [
    "sim_result.groupby(['exact_matched', 'fuzzy_matched']).count()"
   ],
   "metadata": {
    "collapsed": false,
    "ExecuteTime": {
     "end_time": "2024-06-10T12:22:09.297262Z",
     "start_time": "2024-06-10T12:22:09.276909Z"
    }
   },
   "id": "32809668a0380ed0",
   "execution_count": 56
  },
  {
   "cell_type": "markdown",
   "source": [
    "## Remove the wccId property from UserDescription nodes so it doesn't confuse future runs of the matching job."
   ],
   "metadata": {
    "collapsed": false
   },
   "id": "ae62128ca3c6eb"
  },
  {
   "cell_type": "code",
   "outputs": [
    {
     "data": {
      "text/plain": "   batches    total  timeTaken  committedOperations  failedOperations  \\\n0      293  2925312          6              2925312                 0   \n\n   failedBatches  retries errorMessages  \\\n0              0        0            {}   \n\n                                               batch  \\\n0  {'total': 293, 'errors': {}, 'committed': 293,...   \n\n                                          operations  wasTerminated  \\\n0  {'total': 2925312, 'errors': {}, 'committed': ...          False   \n\n  failedParams                                   updateStatistics  \n0           {}  {'relationshipsDeleted': 0, 'relationshipsCrea...  ",
      "text/html": "<div>\n<style scoped>\n    .dataframe tbody tr th:only-of-type {\n        vertical-align: middle;\n    }\n\n    .dataframe tbody tr th {\n        vertical-align: top;\n    }\n\n    .dataframe thead th {\n        text-align: right;\n    }\n</style>\n<table border=\"1\" class=\"dataframe\">\n  <thead>\n    <tr style=\"text-align: right;\">\n      <th></th>\n      <th>batches</th>\n      <th>total</th>\n      <th>timeTaken</th>\n      <th>committedOperations</th>\n      <th>failedOperations</th>\n      <th>failedBatches</th>\n      <th>retries</th>\n      <th>errorMessages</th>\n      <th>batch</th>\n      <th>operations</th>\n      <th>wasTerminated</th>\n      <th>failedParams</th>\n      <th>updateStatistics</th>\n    </tr>\n  </thead>\n  <tbody>\n    <tr>\n      <th>0</th>\n      <td>293</td>\n      <td>2925312</td>\n      <td>6</td>\n      <td>2925312</td>\n      <td>0</td>\n      <td>0</td>\n      <td>0</td>\n      <td>{}</td>\n      <td>{'total': 293, 'errors': {}, 'committed': 293,...</td>\n      <td>{'total': 2925312, 'errors': {}, 'committed': ...</td>\n      <td>False</td>\n      <td>{}</td>\n      <td>{'relationshipsDeleted': 0, 'relationshipsCrea...</td>\n    </tr>\n  </tbody>\n</table>\n</div>"
     },
     "execution_count": 57,
     "metadata": {},
     "output_type": "execute_result"
    }
   ],
   "source": [
    "gds.run_cypher(\"\"\"\n",
    "    CALL apoc.periodic.iterate(\n",
    "        \"MATCH (u:UserDescription) WHERE u.wccId IS NOT NULL\n",
    "        RETURN u\",\n",
    "        \"SET u.wccId = NULL\",\n",
    "        {parallel:True}\n",
    "    )\n",
    "\"\"\")"
   ],
   "metadata": {
    "collapsed": false,
    "ExecuteTime": {
     "end_time": "2024-06-10T12:22:16.516240Z",
     "start_time": "2024-06-10T12:22:09.298845Z"
    }
   },
   "id": "492a34fb616e388b",
   "execution_count": 57
  },
  {
   "cell_type": "code",
   "outputs": [],
   "source": [],
   "metadata": {
    "collapsed": false,
    "ExecuteTime": {
     "end_time": "2024-06-10T12:22:16.520724Z",
     "start_time": "2024-06-10T12:22:16.517940Z"
    }
   },
   "id": "925bf26015d1c46d",
   "execution_count": 57
  }
 ],
 "metadata": {
  "kernelspec": {
   "name": "chatbot",
   "language": "python",
   "display_name": "chatbot"
  },
  "language_info": {
   "codemirror_mode": {
    "name": "ipython",
    "version": 2
   },
   "file_extension": ".py",
   "mimetype": "text/x-python",
   "name": "python",
   "nbconvert_exporter": "python",
   "pygments_lexer": "ipython2",
   "version": "2.7.6"
  }
 },
 "nbformat": 4,
 "nbformat_minor": 5
}
