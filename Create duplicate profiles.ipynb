{
 "cells": [
  {
   "cell_type": "code",
   "execution_count": 13,
   "metadata": {
    "ExecuteTime": {
     "end_time": "2024-06-09T20:31:03.270718Z",
     "start_time": "2024-06-09T20:31:01.768288Z"
    },
    "collapsed": false,
    "jupyter": {
     "outputs_hidden": false
    }
   },
   "outputs": [],
   "source": [
    "from graphdatascience import GraphDataScience\n",
    "from getpass import getpass"
   ]
  },
  {
   "cell_type": "markdown",
   "metadata": {},
   "source": [
    "# Connect to Neo4j"
   ]
  },
  {
   "cell_type": "code",
   "execution_count": 14,
   "metadata": {
    "ExecuteTime": {
     "end_time": "2024-06-09T20:31:10.414140Z",
     "start_time": "2024-06-09T20:31:03.273105Z"
    },
    "collapsed": false,
    "jupyter": {
     "outputs_hidden": false
    }
   },
   "outputs": [],
   "source": [
    "neo4j_password = getpass(\"Neo4j password\")"
   ]
  },
  {
   "cell_type": "code",
   "execution_count": 15,
   "metadata": {
    "ExecuteTime": {
     "end_time": "2024-06-09T20:31:39.825448Z",
     "start_time": "2024-06-09T20:31:11.424057Z"
    },
    "collapsed": false,
    "jupyter": {
     "outputs_hidden": false
    }
   },
   "outputs": [],
   "source": [
    "url = \"neo4j+s://5f8297f1.databases.neo4j.io\"\n",
    "username = \"neo4j\"\n",
    "gds = GraphDataScience(url, auth=(username, neo4j_password))"
   ]
  },
  {
   "cell_type": "markdown",
   "metadata": {},
   "source": [
    "# Create new user descriptions that are similar to existing profiles, but a property is off by a small change"
   ]
  },
  {
   "cell_type": "code",
   "execution_count": 35,
   "metadata": {
    "ExecuteTime": {
     "end_time": "2024-06-09T22:58:57.135238Z",
     "start_time": "2024-06-09T22:58:57.127730Z"
    },
    "collapsed": false,
    "jupyter": {
     "outputs_hidden": false
    }
   },
   "outputs": [],
   "source": [
    "def create_similar_profile(labels_to_change, props_to_change, profile_count):\n",
    "    id_df = gds.run_cypher(\n",
    "        \"\"\"\n",
    "        MATCH (u1:UserDescription)\n",
    "        WITH u1 ORDER BY rand()\n",
    "        LIMIT $profileCount\n",
    "        CREATE (u2:UserDescription {userId:apoc.create.uuid()})\n",
    "        WITH u1, u2\n",
    "        MATCH (u1)-[r]->(i)\n",
    "        WHERE labels(i)[0] IN $labelsToChange\n",
    "        WITH u1, u2, labels(i)[0] AS labelToChange,\n",
    "        type(r) AS typeToCopy, properties(i) AS props\n",
    "        WITH u1, u2, labelToChange, typeToCopy, props, [key IN keys(props) WHERE key in $propsToChange | key] AS propsToChange\n",
    "        WITH  u1, u2, labelToChange, typeToCopy, props, propsToChange, apoc.map.mget(props, propsToChange) AS valuesToChange\n",
    "        WITH  u1, u2, labelToChange, typeToCopy, props, propsToChange, [val in valuesToChange | substring(val, 0, size(val)-2) + reverse(substring(val, size(val)-2))] AS changedValues\n",
    "        WITH  u1, u2, labelToChange, typeToCopy, props, apoc.map.fromLists(propsToChange, changedValues) AS updateProps\n",
    "        WITH u1, u2, labelToChange, typeToCopy, props, apoc.map.merge(props, updateProps) AS updateProps\n",
    "        WITH u1, u2, labelToChange, typeToCopy, updateProps\n",
    "        CALL apoc.merge.node([labelToChange], updateProps) YIELD node\n",
    "        WITH u1, u2, typeToCopy, node AS n\n",
    "        CALL apoc.create.relationship(u2, typeToCopy, null, n) YIELD rel\n",
    "        WITH DISTINCT u1, u2\n",
    "        MATCH (u1)-[r]->(i) WHERE NOT labels(i)[0] IN $labelsToChange\n",
    "        CALL apoc.create.relationship(u2, type(r), null, i) YIELD rel\n",
    "        RETURN DISTINCT u1.userId AS id1, u2.userId AS id2\n",
    "        \"\"\",\n",
    "        {\"labelsToChange\":labels_to_change, \"propsToChange\":props_to_change, \"profileCount\":profile_count}\n",
    "    )\n",
    "    return id_df"
   ]
  },
  {
   "cell_type": "code",
   "execution_count": 21,
   "metadata": {
    "ExecuteTime": {
     "end_time": "2024-06-09T20:37:01.805604Z",
     "start_time": "2024-06-09T20:36:49.580897Z"
    },
    "collapsed": false,
    "jupyter": {
     "outputs_hidden": false
    }
   },
   "outputs": [],
   "source": [
    "phone_diff = create_similar_profile([\"PhoneNumber\"], [\"phoneNumber\"], 500)"
   ]
  },
  {
   "cell_type": "code",
   "execution_count": 40,
   "metadata": {
    "ExecuteTime": {
     "end_time": "2024-06-09T23:01:47.322642Z",
     "start_time": "2024-06-09T23:01:47.309700Z"
    },
    "collapsed": false,
    "jupyter": {
     "outputs_hidden": false
    }
   },
   "outputs": [
    {
     "data": {
      "text/html": [
       "<div>\n",
       "<style scoped>\n",
       "    .dataframe tbody tr th:only-of-type {\n",
       "        vertical-align: middle;\n",
       "    }\n",
       "\n",
       "    .dataframe tbody tr th {\n",
       "        vertical-align: top;\n",
       "    }\n",
       "\n",
       "    .dataframe thead th {\n",
       "        text-align: right;\n",
       "    }\n",
       "</style>\n",
       "<table border=\"1\" class=\"dataframe\">\n",
       "  <thead>\n",
       "    <tr style=\"text-align: right;\">\n",
       "      <th></th>\n",
       "      <th>id1</th>\n",
       "      <th>id2</th>\n",
       "    </tr>\n",
       "  </thead>\n",
       "  <tbody>\n",
       "    <tr>\n",
       "      <th>0</th>\n",
       "      <td>g1bvctbd-q9td-2id2-djin-jf3jr05tdiiq</td>\n",
       "      <td>0e64c7ef-c4de-4a5f-93d5-3fc96a16acad</td>\n",
       "    </tr>\n",
       "    <tr>\n",
       "      <th>1</th>\n",
       "      <td>3qs23vuq-fn0s-mlcg-axu7-thnvhi29pt2v</td>\n",
       "      <td>2cd6a007-1587-41f1-bcd2-037430094407</td>\n",
       "    </tr>\n",
       "    <tr>\n",
       "      <th>2</th>\n",
       "      <td>j8ccs70i-7wlw-adsv-tnny-8he7mxwfe9px</td>\n",
       "      <td>be8bd515-4b29-44fe-bb22-b260e2149a38</td>\n",
       "    </tr>\n",
       "    <tr>\n",
       "      <th>3</th>\n",
       "      <td>2l0ex1n1-xbxr-leck-lw83-x6hwsefz84bq</td>\n",
       "      <td>dd836e6a-8bd2-4140-a7d5-9d0da707e7d9</td>\n",
       "    </tr>\n",
       "    <tr>\n",
       "      <th>4</th>\n",
       "      <td>hgcfqqmc-pysk-xk41-wlee-57vbfwn6y1qo</td>\n",
       "      <td>4dce3fe4-7070-4012-8e91-3891f7b8f7b5</td>\n",
       "    </tr>\n",
       "    <tr>\n",
       "      <th>...</th>\n",
       "      <td>...</td>\n",
       "      <td>...</td>\n",
       "    </tr>\n",
       "    <tr>\n",
       "      <th>495</th>\n",
       "      <td>awrsp1bo-dwn6-ql2k-xxoa-m7t6eiwxw9nz</td>\n",
       "      <td>d451ea72-7c6e-463c-80c9-9c8cb192ada2</td>\n",
       "    </tr>\n",
       "    <tr>\n",
       "      <th>496</th>\n",
       "      <td>l5ks4wzf-p8ds-mdb2-b1s7-lam8v3o5imi1</td>\n",
       "      <td>ade62b2e-d3d5-4828-b1d9-c72a3a0bb0be</td>\n",
       "    </tr>\n",
       "    <tr>\n",
       "      <th>497</th>\n",
       "      <td>fvfetjvn-kswb-b6re-xkn6-y14yk3x3qnl2</td>\n",
       "      <td>d02c4f1e-9d8c-4a6c-ac57-50f7b391f59d</td>\n",
       "    </tr>\n",
       "    <tr>\n",
       "      <th>498</th>\n",
       "      <td>5ho0jmm7-ms3n-fgoo-s6nv-w2mw9yx0v7i6</td>\n",
       "      <td>17db1a4c-c438-4b23-992a-af524130ccdd</td>\n",
       "    </tr>\n",
       "    <tr>\n",
       "      <th>499</th>\n",
       "      <td>s5c3witg-g81q-5e1r-vvql-t0ixg2pzndwm</td>\n",
       "      <td>f1fa52d7-50c4-4b68-9369-5ca4d2955202</td>\n",
       "    </tr>\n",
       "  </tbody>\n",
       "</table>\n",
       "<p>500 rows × 2 columns</p>\n",
       "</div>"
      ],
      "text/plain": [
       "                                      id1  \\\n",
       "0    g1bvctbd-q9td-2id2-djin-jf3jr05tdiiq   \n",
       "1    3qs23vuq-fn0s-mlcg-axu7-thnvhi29pt2v   \n",
       "2    j8ccs70i-7wlw-adsv-tnny-8he7mxwfe9px   \n",
       "3    2l0ex1n1-xbxr-leck-lw83-x6hwsefz84bq   \n",
       "4    hgcfqqmc-pysk-xk41-wlee-57vbfwn6y1qo   \n",
       "..                                    ...   \n",
       "495  awrsp1bo-dwn6-ql2k-xxoa-m7t6eiwxw9nz   \n",
       "496  l5ks4wzf-p8ds-mdb2-b1s7-lam8v3o5imi1   \n",
       "497  fvfetjvn-kswb-b6re-xkn6-y14yk3x3qnl2   \n",
       "498  5ho0jmm7-ms3n-fgoo-s6nv-w2mw9yx0v7i6   \n",
       "499  s5c3witg-g81q-5e1r-vvql-t0ixg2pzndwm   \n",
       "\n",
       "                                      id2  \n",
       "0    0e64c7ef-c4de-4a5f-93d5-3fc96a16acad  \n",
       "1    2cd6a007-1587-41f1-bcd2-037430094407  \n",
       "2    be8bd515-4b29-44fe-bb22-b260e2149a38  \n",
       "3    dd836e6a-8bd2-4140-a7d5-9d0da707e7d9  \n",
       "4    4dce3fe4-7070-4012-8e91-3891f7b8f7b5  \n",
       "..                                    ...  \n",
       "495  d451ea72-7c6e-463c-80c9-9c8cb192ada2  \n",
       "496  ade62b2e-d3d5-4828-b1d9-c72a3a0bb0be  \n",
       "497  d02c4f1e-9d8c-4a6c-ac57-50f7b391f59d  \n",
       "498  17db1a4c-c438-4b23-992a-af524130ccdd  \n",
       "499  f1fa52d7-50c4-4b68-9369-5ca4d2955202  \n",
       "\n",
       "[500 rows x 2 columns]"
      ]
     },
     "execution_count": 40,
     "metadata": {},
     "output_type": "execute_result"
    }
   ],
   "source": [
    "phone_diff"
   ]
  },
  {
   "cell_type": "code",
   "execution_count": 22,
   "metadata": {
    "ExecuteTime": {
     "end_time": "2024-06-09T20:37:41.161204Z",
     "start_time": "2024-06-09T20:37:29.317114Z"
    },
    "collapsed": false,
    "jupyter": {
     "outputs_hidden": false
    }
   },
   "outputs": [],
   "source": [
    "ssn_diff = create_similar_profile([\"SocialSecurityNumber\"], [\"socialSecurityNumber\"], 500)"
   ]
  },
  {
   "cell_type": "code",
   "execution_count": 41,
   "metadata": {
    "ExecuteTime": {
     "end_time": "2024-06-09T23:01:51.606615Z",
     "start_time": "2024-06-09T23:01:51.595551Z"
    },
    "collapsed": false,
    "jupyter": {
     "outputs_hidden": false
    }
   },
   "outputs": [
    {
     "data": {
      "text/html": [
       "<div>\n",
       "<style scoped>\n",
       "    .dataframe tbody tr th:only-of-type {\n",
       "        vertical-align: middle;\n",
       "    }\n",
       "\n",
       "    .dataframe tbody tr th {\n",
       "        vertical-align: top;\n",
       "    }\n",
       "\n",
       "    .dataframe thead th {\n",
       "        text-align: right;\n",
       "    }\n",
       "</style>\n",
       "<table border=\"1\" class=\"dataframe\">\n",
       "  <thead>\n",
       "    <tr style=\"text-align: right;\">\n",
       "      <th></th>\n",
       "      <th>id1</th>\n",
       "      <th>id2</th>\n",
       "    </tr>\n",
       "  </thead>\n",
       "  <tbody>\n",
       "    <tr>\n",
       "      <th>0</th>\n",
       "      <td>2uw9rrjv-7iaw-aiyb-61lg-sx0injz1uva6</td>\n",
       "      <td>be023eb2-5797-40e7-b51e-bb759b8f5599</td>\n",
       "    </tr>\n",
       "    <tr>\n",
       "      <th>1</th>\n",
       "      <td>cd0tgg2f-2wbx-03ly-jss6-pdt7ds10a3j8</td>\n",
       "      <td>d815c212-57fe-4e18-9baa-e386d9df49d0</td>\n",
       "    </tr>\n",
       "    <tr>\n",
       "      <th>2</th>\n",
       "      <td>oh71y3mn-orzi-c5sb-phv0-qivxikewi3sy</td>\n",
       "      <td>4faf596e-01bd-40ef-8f0e-9724fe9b9224</td>\n",
       "    </tr>\n",
       "    <tr>\n",
       "      <th>3</th>\n",
       "      <td>901m85ks-cw52-bwhl-f9q1-3flrj0qszd6r</td>\n",
       "      <td>4faefa76-3717-4511-81cf-592f2eb9e780</td>\n",
       "    </tr>\n",
       "    <tr>\n",
       "      <th>4</th>\n",
       "      <td>ikl1zioo-69vx-vbov-58sm-837ywimrmxoj</td>\n",
       "      <td>8bbd47cd-8951-4e44-9847-07a4bf97ee01</td>\n",
       "    </tr>\n",
       "    <tr>\n",
       "      <th>...</th>\n",
       "      <td>...</td>\n",
       "      <td>...</td>\n",
       "    </tr>\n",
       "    <tr>\n",
       "      <th>495</th>\n",
       "      <td>4frud64b-4gat-hsw6-lidu-leb7n3pbc8yi</td>\n",
       "      <td>39afd162-dc68-456c-bf35-b14453c3e668</td>\n",
       "    </tr>\n",
       "    <tr>\n",
       "      <th>496</th>\n",
       "      <td>ornzx1p5-b08o-or5k-vpl8-cz7nd5g9qe4y</td>\n",
       "      <td>5b005361-e941-4d41-a9d0-9206df222be8</td>\n",
       "    </tr>\n",
       "    <tr>\n",
       "      <th>497</th>\n",
       "      <td>l51p99yf-ds0s-vkdc-96uv-dgmt8b4gh81g</td>\n",
       "      <td>c5223bad-af23-4181-a173-90e00d01a654</td>\n",
       "    </tr>\n",
       "    <tr>\n",
       "      <th>498</th>\n",
       "      <td>94txgrlu-3avf-1oqy-imhu-465bvsuseyb0</td>\n",
       "      <td>30889bb6-8f46-45f1-b29c-f9fabe568495</td>\n",
       "    </tr>\n",
       "    <tr>\n",
       "      <th>499</th>\n",
       "      <td>0r9dg8mz-khzs-di98-c1kb-3ob63m2mhf4p</td>\n",
       "      <td>0365d933-38e4-4b56-99f4-51ad90c52eaa</td>\n",
       "    </tr>\n",
       "  </tbody>\n",
       "</table>\n",
       "<p>500 rows × 2 columns</p>\n",
       "</div>"
      ],
      "text/plain": [
       "                                      id1  \\\n",
       "0    2uw9rrjv-7iaw-aiyb-61lg-sx0injz1uva6   \n",
       "1    cd0tgg2f-2wbx-03ly-jss6-pdt7ds10a3j8   \n",
       "2    oh71y3mn-orzi-c5sb-phv0-qivxikewi3sy   \n",
       "3    901m85ks-cw52-bwhl-f9q1-3flrj0qszd6r   \n",
       "4    ikl1zioo-69vx-vbov-58sm-837ywimrmxoj   \n",
       "..                                    ...   \n",
       "495  4frud64b-4gat-hsw6-lidu-leb7n3pbc8yi   \n",
       "496  ornzx1p5-b08o-or5k-vpl8-cz7nd5g9qe4y   \n",
       "497  l51p99yf-ds0s-vkdc-96uv-dgmt8b4gh81g   \n",
       "498  94txgrlu-3avf-1oqy-imhu-465bvsuseyb0   \n",
       "499  0r9dg8mz-khzs-di98-c1kb-3ob63m2mhf4p   \n",
       "\n",
       "                                      id2  \n",
       "0    be023eb2-5797-40e7-b51e-bb759b8f5599  \n",
       "1    d815c212-57fe-4e18-9baa-e386d9df49d0  \n",
       "2    4faf596e-01bd-40ef-8f0e-9724fe9b9224  \n",
       "3    4faefa76-3717-4511-81cf-592f2eb9e780  \n",
       "4    8bbd47cd-8951-4e44-9847-07a4bf97ee01  \n",
       "..                                    ...  \n",
       "495  39afd162-dc68-456c-bf35-b14453c3e668  \n",
       "496  5b005361-e941-4d41-a9d0-9206df222be8  \n",
       "497  c5223bad-af23-4181-a173-90e00d01a654  \n",
       "498  30889bb6-8f46-45f1-b29c-f9fabe568495  \n",
       "499  0365d933-38e4-4b56-99f4-51ad90c52eaa  \n",
       "\n",
       "[500 rows x 2 columns]"
      ]
     },
     "execution_count": 41,
     "metadata": {},
     "output_type": "execute_result"
    }
   ],
   "source": [
    "ssn_diff"
   ]
  },
  {
   "cell_type": "code",
   "execution_count": 23,
   "metadata": {
    "ExecuteTime": {
     "end_time": "2024-06-09T20:38:27.342001Z",
     "start_time": "2024-06-09T20:38:22.483543Z"
    },
    "collapsed": false,
    "jupyter": {
     "outputs_hidden": false
    }
   },
   "outputs": [],
   "source": [
    "email_diff = create_similar_profile([\"Email\"], [\"email\"], 500)"
   ]
  },
  {
   "cell_type": "code",
   "execution_count": 42,
   "metadata": {
    "ExecuteTime": {
     "end_time": "2024-06-09T23:01:56.511388Z",
     "start_time": "2024-06-09T23:01:56.499841Z"
    },
    "collapsed": false,
    "jupyter": {
     "outputs_hidden": false
    }
   },
   "outputs": [
    {
     "data": {
      "text/html": [
       "<div>\n",
       "<style scoped>\n",
       "    .dataframe tbody tr th:only-of-type {\n",
       "        vertical-align: middle;\n",
       "    }\n",
       "\n",
       "    .dataframe tbody tr th {\n",
       "        vertical-align: top;\n",
       "    }\n",
       "\n",
       "    .dataframe thead th {\n",
       "        text-align: right;\n",
       "    }\n",
       "</style>\n",
       "<table border=\"1\" class=\"dataframe\">\n",
       "  <thead>\n",
       "    <tr style=\"text-align: right;\">\n",
       "      <th></th>\n",
       "      <th>id1</th>\n",
       "      <th>id2</th>\n",
       "    </tr>\n",
       "  </thead>\n",
       "  <tbody>\n",
       "    <tr>\n",
       "      <th>0</th>\n",
       "      <td>eg4iu59i-tjtq-l4it-37b4-s62phleja51b</td>\n",
       "      <td>ca3444b8-8619-4eef-a051-57e478cf36a0</td>\n",
       "    </tr>\n",
       "    <tr>\n",
       "      <th>1</th>\n",
       "      <td>jua2dk3l-dpcz-g5mp-nl5t-uni3cnha7n6z</td>\n",
       "      <td>a826f325-958b-4d35-ba42-1fcb855c455d</td>\n",
       "    </tr>\n",
       "    <tr>\n",
       "      <th>2</th>\n",
       "      <td>ji4ky83i-vo8c-ezpn-dijz-fq3fiq2eljnk</td>\n",
       "      <td>6c7eefc5-0a95-4fb7-8eb7-68ea5c2e9d3f</td>\n",
       "    </tr>\n",
       "    <tr>\n",
       "      <th>3</th>\n",
       "      <td>lfmr0vsx-3ir4-80gw-dehx-um6qbhttyihh</td>\n",
       "      <td>778652a5-6e6a-4391-88ab-9cd0a2216cb5</td>\n",
       "    </tr>\n",
       "    <tr>\n",
       "      <th>4</th>\n",
       "      <td>any9e9mb-2gu0-sbtp-x1v2-9vr0d8u64fm0</td>\n",
       "      <td>a40a1afb-8c33-45c8-b880-4e81ec2633d0</td>\n",
       "    </tr>\n",
       "    <tr>\n",
       "      <th>...</th>\n",
       "      <td>...</td>\n",
       "      <td>...</td>\n",
       "    </tr>\n",
       "    <tr>\n",
       "      <th>495</th>\n",
       "      <td>c3y7o1vv-t61y-rle8-7ph3-862wv9gcvrep</td>\n",
       "      <td>f9697dbf-2ef8-4ec2-a53a-3e3134b844c4</td>\n",
       "    </tr>\n",
       "    <tr>\n",
       "      <th>496</th>\n",
       "      <td>wbdt3img-f5ao-n2wb-tf5d-foma16zc7htx</td>\n",
       "      <td>7679920f-6c0a-407b-9e35-cd7f0200cc45</td>\n",
       "    </tr>\n",
       "    <tr>\n",
       "      <th>497</th>\n",
       "      <td>9vqin4zz-2vl1-co8m-aw7o-9qpz0jw7bnfw</td>\n",
       "      <td>b257a6f0-0865-4ddb-9591-e448fd64f786</td>\n",
       "    </tr>\n",
       "    <tr>\n",
       "      <th>498</th>\n",
       "      <td>s71bhrk0-khl7-4sun-wzmn-9nm5l511j411</td>\n",
       "      <td>d3edbed7-19cc-47d4-a236-6a19497dfa8a</td>\n",
       "    </tr>\n",
       "    <tr>\n",
       "      <th>499</th>\n",
       "      <td>ej7p8l6c-7lty-nhsv-2uua-ge6gio42wwwj</td>\n",
       "      <td>9259a745-18af-436e-85eb-a0eb478515ef</td>\n",
       "    </tr>\n",
       "  </tbody>\n",
       "</table>\n",
       "<p>500 rows × 2 columns</p>\n",
       "</div>"
      ],
      "text/plain": [
       "                                      id1  \\\n",
       "0    eg4iu59i-tjtq-l4it-37b4-s62phleja51b   \n",
       "1    jua2dk3l-dpcz-g5mp-nl5t-uni3cnha7n6z   \n",
       "2    ji4ky83i-vo8c-ezpn-dijz-fq3fiq2eljnk   \n",
       "3    lfmr0vsx-3ir4-80gw-dehx-um6qbhttyihh   \n",
       "4    any9e9mb-2gu0-sbtp-x1v2-9vr0d8u64fm0   \n",
       "..                                    ...   \n",
       "495  c3y7o1vv-t61y-rle8-7ph3-862wv9gcvrep   \n",
       "496  wbdt3img-f5ao-n2wb-tf5d-foma16zc7htx   \n",
       "497  9vqin4zz-2vl1-co8m-aw7o-9qpz0jw7bnfw   \n",
       "498  s71bhrk0-khl7-4sun-wzmn-9nm5l511j411   \n",
       "499  ej7p8l6c-7lty-nhsv-2uua-ge6gio42wwwj   \n",
       "\n",
       "                                      id2  \n",
       "0    ca3444b8-8619-4eef-a051-57e478cf36a0  \n",
       "1    a826f325-958b-4d35-ba42-1fcb855c455d  \n",
       "2    6c7eefc5-0a95-4fb7-8eb7-68ea5c2e9d3f  \n",
       "3    778652a5-6e6a-4391-88ab-9cd0a2216cb5  \n",
       "4    a40a1afb-8c33-45c8-b880-4e81ec2633d0  \n",
       "..                                    ...  \n",
       "495  f9697dbf-2ef8-4ec2-a53a-3e3134b844c4  \n",
       "496  7679920f-6c0a-407b-9e35-cd7f0200cc45  \n",
       "497  b257a6f0-0865-4ddb-9591-e448fd64f786  \n",
       "498  d3edbed7-19cc-47d4-a236-6a19497dfa8a  \n",
       "499  9259a745-18af-436e-85eb-a0eb478515ef  \n",
       "\n",
       "[500 rows x 2 columns]"
      ]
     },
     "execution_count": 42,
     "metadata": {},
     "output_type": "execute_result"
    }
   ],
   "source": [
    "email_diff"
   ]
  },
  {
   "cell_type": "code",
   "execution_count": 24,
   "metadata": {
    "ExecuteTime": {
     "end_time": "2024-06-09T20:38:31.550346Z",
     "start_time": "2024-06-09T20:38:31.539396Z"
    },
    "collapsed": false,
    "jupyter": {
     "outputs_hidden": false
    }
   },
   "outputs": [
    {
     "data": {
      "text/html": [
       "<div>\n",
       "<style scoped>\n",
       "    .dataframe tbody tr th:only-of-type {\n",
       "        vertical-align: middle;\n",
       "    }\n",
       "\n",
       "    .dataframe tbody tr th {\n",
       "        vertical-align: top;\n",
       "    }\n",
       "\n",
       "    .dataframe thead th {\n",
       "        text-align: right;\n",
       "    }\n",
       "</style>\n",
       "<table border=\"1\" class=\"dataframe\">\n",
       "  <thead>\n",
       "    <tr style=\"text-align: right;\">\n",
       "      <th></th>\n",
       "      <th>id1</th>\n",
       "      <th>id2</th>\n",
       "    </tr>\n",
       "  </thead>\n",
       "  <tbody>\n",
       "    <tr>\n",
       "      <th>0</th>\n",
       "      <td>eg4iu59i-tjtq-l4it-37b4-s62phleja51b</td>\n",
       "      <td>ca3444b8-8619-4eef-a051-57e478cf36a0</td>\n",
       "    </tr>\n",
       "    <tr>\n",
       "      <th>1</th>\n",
       "      <td>jua2dk3l-dpcz-g5mp-nl5t-uni3cnha7n6z</td>\n",
       "      <td>a826f325-958b-4d35-ba42-1fcb855c455d</td>\n",
       "    </tr>\n",
       "    <tr>\n",
       "      <th>2</th>\n",
       "      <td>ji4ky83i-vo8c-ezpn-dijz-fq3fiq2eljnk</td>\n",
       "      <td>6c7eefc5-0a95-4fb7-8eb7-68ea5c2e9d3f</td>\n",
       "    </tr>\n",
       "    <tr>\n",
       "      <th>3</th>\n",
       "      <td>lfmr0vsx-3ir4-80gw-dehx-um6qbhttyihh</td>\n",
       "      <td>778652a5-6e6a-4391-88ab-9cd0a2216cb5</td>\n",
       "    </tr>\n",
       "    <tr>\n",
       "      <th>4</th>\n",
       "      <td>any9e9mb-2gu0-sbtp-x1v2-9vr0d8u64fm0</td>\n",
       "      <td>a40a1afb-8c33-45c8-b880-4e81ec2633d0</td>\n",
       "    </tr>\n",
       "    <tr>\n",
       "      <th>...</th>\n",
       "      <td>...</td>\n",
       "      <td>...</td>\n",
       "    </tr>\n",
       "    <tr>\n",
       "      <th>495</th>\n",
       "      <td>c3y7o1vv-t61y-rle8-7ph3-862wv9gcvrep</td>\n",
       "      <td>f9697dbf-2ef8-4ec2-a53a-3e3134b844c4</td>\n",
       "    </tr>\n",
       "    <tr>\n",
       "      <th>496</th>\n",
       "      <td>wbdt3img-f5ao-n2wb-tf5d-foma16zc7htx</td>\n",
       "      <td>7679920f-6c0a-407b-9e35-cd7f0200cc45</td>\n",
       "    </tr>\n",
       "    <tr>\n",
       "      <th>497</th>\n",
       "      <td>9vqin4zz-2vl1-co8m-aw7o-9qpz0jw7bnfw</td>\n",
       "      <td>b257a6f0-0865-4ddb-9591-e448fd64f786</td>\n",
       "    </tr>\n",
       "    <tr>\n",
       "      <th>498</th>\n",
       "      <td>s71bhrk0-khl7-4sun-wzmn-9nm5l511j411</td>\n",
       "      <td>d3edbed7-19cc-47d4-a236-6a19497dfa8a</td>\n",
       "    </tr>\n",
       "    <tr>\n",
       "      <th>499</th>\n",
       "      <td>ej7p8l6c-7lty-nhsv-2uua-ge6gio42wwwj</td>\n",
       "      <td>9259a745-18af-436e-85eb-a0eb478515ef</td>\n",
       "    </tr>\n",
       "  </tbody>\n",
       "</table>\n",
       "<p>500 rows × 2 columns</p>\n",
       "</div>"
      ],
      "text/plain": [
       "                                      id1  \\\n",
       "0    eg4iu59i-tjtq-l4it-37b4-s62phleja51b   \n",
       "1    jua2dk3l-dpcz-g5mp-nl5t-uni3cnha7n6z   \n",
       "2    ji4ky83i-vo8c-ezpn-dijz-fq3fiq2eljnk   \n",
       "3    lfmr0vsx-3ir4-80gw-dehx-um6qbhttyihh   \n",
       "4    any9e9mb-2gu0-sbtp-x1v2-9vr0d8u64fm0   \n",
       "..                                    ...   \n",
       "495  c3y7o1vv-t61y-rle8-7ph3-862wv9gcvrep   \n",
       "496  wbdt3img-f5ao-n2wb-tf5d-foma16zc7htx   \n",
       "497  9vqin4zz-2vl1-co8m-aw7o-9qpz0jw7bnfw   \n",
       "498  s71bhrk0-khl7-4sun-wzmn-9nm5l511j411   \n",
       "499  ej7p8l6c-7lty-nhsv-2uua-ge6gio42wwwj   \n",
       "\n",
       "                                      id2  \n",
       "0    ca3444b8-8619-4eef-a051-57e478cf36a0  \n",
       "1    a826f325-958b-4d35-ba42-1fcb855c455d  \n",
       "2    6c7eefc5-0a95-4fb7-8eb7-68ea5c2e9d3f  \n",
       "3    778652a5-6e6a-4391-88ab-9cd0a2216cb5  \n",
       "4    a40a1afb-8c33-45c8-b880-4e81ec2633d0  \n",
       "..                                    ...  \n",
       "495  f9697dbf-2ef8-4ec2-a53a-3e3134b844c4  \n",
       "496  7679920f-6c0a-407b-9e35-cd7f0200cc45  \n",
       "497  b257a6f0-0865-4ddb-9591-e448fd64f786  \n",
       "498  d3edbed7-19cc-47d4-a236-6a19497dfa8a  \n",
       "499  9259a745-18af-436e-85eb-a0eb478515ef  \n",
       "\n",
       "[500 rows x 2 columns]"
      ]
     },
     "execution_count": 24,
     "metadata": {},
     "output_type": "execute_result"
    }
   ],
   "source": [
    "email_diff"
   ]
  },
  {
   "cell_type": "code",
   "execution_count": 38,
   "metadata": {
    "ExecuteTime": {
     "end_time": "2024-06-09T23:01:31.557460Z",
     "start_time": "2024-06-09T23:01:18.629496Z"
    },
    "collapsed": false,
    "jupyter": {
     "outputs_hidden": false
    }
   },
   "outputs": [],
   "source": [
    "phone_ssn_diff = create_similar_profile([\"PhoneNumber\", \"SocialSecurityNumber\"], [\"phoneNumber\", \"socialSecurityNumber\"], 500)"
   ]
  },
  {
   "cell_type": "code",
   "execution_count": 39,
   "metadata": {
    "ExecuteTime": {
     "end_time": "2024-06-09T23:01:31.575165Z",
     "start_time": "2024-06-09T23:01:31.562451Z"
    },
    "collapsed": false,
    "jupyter": {
     "outputs_hidden": false
    }
   },
   "outputs": [
    {
     "data": {
      "text/html": [
       "<div>\n",
       "<style scoped>\n",
       "    .dataframe tbody tr th:only-of-type {\n",
       "        vertical-align: middle;\n",
       "    }\n",
       "\n",
       "    .dataframe tbody tr th {\n",
       "        vertical-align: top;\n",
       "    }\n",
       "\n",
       "    .dataframe thead th {\n",
       "        text-align: right;\n",
       "    }\n",
       "</style>\n",
       "<table border=\"1\" class=\"dataframe\">\n",
       "  <thead>\n",
       "    <tr style=\"text-align: right;\">\n",
       "      <th></th>\n",
       "      <th>id1</th>\n",
       "      <th>id2</th>\n",
       "    </tr>\n",
       "  </thead>\n",
       "  <tbody>\n",
       "    <tr>\n",
       "      <th>0</th>\n",
       "      <td>qj7y2inm-7gt6-cx2w-j3hq-c6qrugrsx52a</td>\n",
       "      <td>d9a8ee4a-f637-4a93-b3e2-cd7452ad161f</td>\n",
       "    </tr>\n",
       "    <tr>\n",
       "      <th>1</th>\n",
       "      <td>6508yz52-y3j4-b801-t49m-tuv0tftqxet3</td>\n",
       "      <td>298c046f-00a0-4b43-9e92-cd0ff00d81b0</td>\n",
       "    </tr>\n",
       "    <tr>\n",
       "      <th>2</th>\n",
       "      <td>71ib0nru-fpd4-6n0t-bdry-2b34x2d3kiy4</td>\n",
       "      <td>205c8338-02b8-4b6b-90c3-feae7d92e531</td>\n",
       "    </tr>\n",
       "    <tr>\n",
       "      <th>3</th>\n",
       "      <td>7ilfphby-787v-ajx6-jqro-p891kqspihr4</td>\n",
       "      <td>8c43c84f-4ec4-4a5f-9428-0d118b615e6e</td>\n",
       "    </tr>\n",
       "    <tr>\n",
       "      <th>4</th>\n",
       "      <td>8wezqabd-ufuf-1rfn-zxt8-uznlzro7e5hg</td>\n",
       "      <td>6219238d-6b20-4a79-a716-e2f8933eb4b0</td>\n",
       "    </tr>\n",
       "    <tr>\n",
       "      <th>...</th>\n",
       "      <td>...</td>\n",
       "      <td>...</td>\n",
       "    </tr>\n",
       "    <tr>\n",
       "      <th>495</th>\n",
       "      <td>kdit7fli-be6v-9c6n-lwix-px71r8bytkop</td>\n",
       "      <td>75da63f5-e9eb-41f5-9bb1-a75562713996</td>\n",
       "    </tr>\n",
       "    <tr>\n",
       "      <th>496</th>\n",
       "      <td>cwtv3b72-b6zb-om6j-jxjg-k4z2lftkf70f</td>\n",
       "      <td>31fa9bf2-0600-466f-a77e-a2b88da57e2c</td>\n",
       "    </tr>\n",
       "    <tr>\n",
       "      <th>497</th>\n",
       "      <td>rzvml8cd-ntb4-8nyq-9h1x-ntrbclzmuktm</td>\n",
       "      <td>fb132f37-ec48-427c-b363-d30de142c718</td>\n",
       "    </tr>\n",
       "    <tr>\n",
       "      <th>498</th>\n",
       "      <td>ne7go4b4-rr2x-9wuv-dfh2-4ziuut66hao9</td>\n",
       "      <td>9515a136-2fee-4243-9c67-da5bf9643675</td>\n",
       "    </tr>\n",
       "    <tr>\n",
       "      <th>499</th>\n",
       "      <td>0r19ptir-t2dn-4eyb-m1xj-q3muloo8n7d5</td>\n",
       "      <td>09811d51-7e99-4721-bbc1-801db63f53d7</td>\n",
       "    </tr>\n",
       "  </tbody>\n",
       "</table>\n",
       "<p>500 rows × 2 columns</p>\n",
       "</div>"
      ],
      "text/plain": [
       "                                      id1  \\\n",
       "0    qj7y2inm-7gt6-cx2w-j3hq-c6qrugrsx52a   \n",
       "1    6508yz52-y3j4-b801-t49m-tuv0tftqxet3   \n",
       "2    71ib0nru-fpd4-6n0t-bdry-2b34x2d3kiy4   \n",
       "3    7ilfphby-787v-ajx6-jqro-p891kqspihr4   \n",
       "4    8wezqabd-ufuf-1rfn-zxt8-uznlzro7e5hg   \n",
       "..                                    ...   \n",
       "495  kdit7fli-be6v-9c6n-lwix-px71r8bytkop   \n",
       "496  cwtv3b72-b6zb-om6j-jxjg-k4z2lftkf70f   \n",
       "497  rzvml8cd-ntb4-8nyq-9h1x-ntrbclzmuktm   \n",
       "498  ne7go4b4-rr2x-9wuv-dfh2-4ziuut66hao9   \n",
       "499  0r19ptir-t2dn-4eyb-m1xj-q3muloo8n7d5   \n",
       "\n",
       "                                      id2  \n",
       "0    d9a8ee4a-f637-4a93-b3e2-cd7452ad161f  \n",
       "1    298c046f-00a0-4b43-9e92-cd0ff00d81b0  \n",
       "2    205c8338-02b8-4b6b-90c3-feae7d92e531  \n",
       "3    8c43c84f-4ec4-4a5f-9428-0d118b615e6e  \n",
       "4    6219238d-6b20-4a79-a716-e2f8933eb4b0  \n",
       "..                                    ...  \n",
       "495  75da63f5-e9eb-41f5-9bb1-a75562713996  \n",
       "496  31fa9bf2-0600-466f-a77e-a2b88da57e2c  \n",
       "497  fb132f37-ec48-427c-b363-d30de142c718  \n",
       "498  9515a136-2fee-4243-9c67-da5bf9643675  \n",
       "499  09811d51-7e99-4721-bbc1-801db63f53d7  \n",
       "\n",
       "[500 rows x 2 columns]"
      ]
     },
     "execution_count": 39,
     "metadata": {},
     "output_type": "execute_result"
    }
   ],
   "source": [
    "phone_ssn_diff"
   ]
  },
  {
   "cell_type": "code",
   "execution_count": null,
   "metadata": {
    "collapsed": false,
    "jupyter": {
     "outputs_hidden": false
    }
   },
   "outputs": [],
   "source": []
  }
 ],
 "metadata": {
  "application/vnd.databricks.v1+notebook": {
   "dashboards": [],
   "environmentMetadata": null,
   "language": "python",
   "notebookMetadata": {
    "pythonIndentUnit": 4
   },
   "notebookName": "Search profile",
   "widgets": {}
  },
  "kernelspec": {
   "display_name": "Python 3 (ipykernel)",
   "language": "python",
   "name": "python3"
  },
  "language_info": {
   "codemirror_mode": {
    "name": "ipython",
    "version": 3
   },
   "file_extension": ".py",
   "mimetype": "text/x-python",
   "name": "python",
   "nbconvert_exporter": "python",
   "pygments_lexer": "ipython3",
   "version": "3.10.9"
  }
 },
 "nbformat": 4,
 "nbformat_minor": 4
}
